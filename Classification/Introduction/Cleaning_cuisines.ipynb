{
 "cells": [
  {
   "cell_type": "code",
   "execution_count": 20,
   "id": "ca803f5c-c699-4386-9ee2-35bbab70b5eb",
   "metadata": {},
   "outputs": [],
   "source": [
    "import os\n",
    "import pandas as pd\n",
    "import matplotlib.pyplot as plt\n",
    "import matplotlib as mpl\n",
    "import numpy as np\n",
    "from imblearn.over_sampling import SMOTE"
   ]
  },
  {
   "cell_type": "code",
   "execution_count": 22,
   "id": "a60b5de8-9cf1-4e3b-bd28-7f659ded760d",
   "metadata": {},
   "outputs": [],
   "source": [
    "df = pd.read_csv('cuisines.csv')"
   ]
  },
  {
   "cell_type": "code",
   "execution_count": 24,
   "id": "b8851193-d01f-4884-b298-03a32308ed7b",
   "metadata": {},
   "outputs": [
    {
     "name": "stdout",
     "output_type": "stream",
     "text": [
      "   Unnamed: 0 cuisine  almond  angelica  anise  anise_seed  apple  \\\n",
      "0          65  indian       0         0      0           0      0   \n",
      "1          66  indian       1         0      0           0      0   \n",
      "2          67  indian       0         0      0           0      0   \n",
      "3          68  indian       0         0      0           0      0   \n",
      "4          69  indian       0         0      0           0      0   \n",
      "\n",
      "   apple_brandy  apricot  armagnac  ...  whiskey  white_bread  white_wine  \\\n",
      "0             0        0         0  ...        0            0           0   \n",
      "1             0        0         0  ...        0            0           0   \n",
      "2             0        0         0  ...        0            0           0   \n",
      "3             0        0         0  ...        0            0           0   \n",
      "4             0        0         0  ...        0            0           0   \n",
      "\n",
      "   whole_grain_wheat_flour  wine  wood  yam  yeast  yogurt  zucchini  \n",
      "0                        0     0     0    0      0       0         0  \n",
      "1                        0     0     0    0      0       0         0  \n",
      "2                        0     0     0    0      0       0         0  \n",
      "3                        0     0     0    0      0       0         0  \n",
      "4                        0     0     0    0      0       1         0  \n",
      "\n",
      "[5 rows x 385 columns]\n",
      "<class 'pandas.core.frame.DataFrame'>\n",
      "RangeIndex: 2448 entries, 0 to 2447\n",
      "Columns: 385 entries, Unnamed: 0 to zucchini\n",
      "dtypes: int64(384), object(1)\n",
      "memory usage: 7.2+ MB\n",
      "None\n"
     ]
    }
   ],
   "source": [
    "# Preview the data\n",
    "print(df.head())\n",
    "print(df.info())"
   ]
  }
 ],
 "metadata": {
  "kernelspec": {
   "display_name": "Python [conda env:base] *",
   "language": "python",
   "name": "conda-base-py"
  },
  "language_info": {
   "codemirror_mode": {
    "name": "ipython",
    "version": 3
   },
   "file_extension": ".py",
   "mimetype": "text/x-python",
   "name": "python",
   "nbconvert_exporter": "python",
   "pygments_lexer": "ipython3",
   "version": "3.12.7"
  }
 },
 "nbformat": 4,
 "nbformat_minor": 5
}
