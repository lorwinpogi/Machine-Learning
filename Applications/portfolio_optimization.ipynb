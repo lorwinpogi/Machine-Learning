{
 "cells": [
  {
   "cell_type": "code",
   "execution_count": null,
   "id": "308030e9-64a6-451e-977f-50c77715226b",
   "metadata": {},
   "outputs": [],
   "source": [
    "!pip install yfinance pandas numpy matplotlib scikit-learn cvxpy"
   ]
  },
  {
   "cell_type": "code",
   "execution_count": 8,
   "id": "f16b834b-9b25-4abb-bbce-2e20ef9db9ea",
   "metadata": {},
   "outputs": [],
   "source": [
    "import yfinance as yf\n",
    "import pandas as pd\n",
    "import numpy as np\n",
    "import matplotlib.pyplot as plt\n",
    "from sklearn.covariance import LedoitWolf\n",
    "import cvxpy as cp\n",
    "import yfinance as yf\n",
    "import pandas as pd"
   ]
  },
  {
   "cell_type": "code",
   "execution_count": 14,
   "id": "e921f714-3f2b-4349-a4bd-6e04b1d750cc",
   "metadata": {},
   "outputs": [
    {
     "name": "stderr",
     "output_type": "stream",
     "text": [
      "[*********************100%***********************]  5 of 5 completed\n"
     ]
    },
    {
     "data": {
      "text/html": [
       "<div>\n",
       "<style scoped>\n",
       "    .dataframe tbody tr th:only-of-type {\n",
       "        vertical-align: middle;\n",
       "    }\n",
       "\n",
       "    .dataframe tbody tr th {\n",
       "        vertical-align: top;\n",
       "    }\n",
       "\n",
       "    .dataframe thead th {\n",
       "        text-align: right;\n",
       "    }\n",
       "</style>\n",
       "<table border=\"1\" class=\"dataframe\">\n",
       "  <thead>\n",
       "    <tr style=\"text-align: right;\">\n",
       "      <th>Ticker</th>\n",
       "      <th>AAPL</th>\n",
       "      <th>AMZN</th>\n",
       "      <th>GOOGL</th>\n",
       "      <th>MSFT</th>\n",
       "      <th>TSLA</th>\n",
       "    </tr>\n",
       "    <tr>\n",
       "      <th>Date</th>\n",
       "      <th></th>\n",
       "      <th></th>\n",
       "      <th></th>\n",
       "      <th></th>\n",
       "      <th></th>\n",
       "    </tr>\n",
       "  </thead>\n",
       "  <tbody>\n",
       "    <tr>\n",
       "      <th>2020-01-03</th>\n",
       "      <td>-0.009722</td>\n",
       "      <td>-0.012139</td>\n",
       "      <td>-0.005231</td>\n",
       "      <td>-0.012452</td>\n",
       "      <td>0.029633</td>\n",
       "    </tr>\n",
       "    <tr>\n",
       "      <th>2020-01-06</th>\n",
       "      <td>0.007968</td>\n",
       "      <td>0.014886</td>\n",
       "      <td>0.026654</td>\n",
       "      <td>0.002585</td>\n",
       "      <td>0.019255</td>\n",
       "    </tr>\n",
       "    <tr>\n",
       "      <th>2020-01-07</th>\n",
       "      <td>-0.004703</td>\n",
       "      <td>0.002092</td>\n",
       "      <td>-0.001932</td>\n",
       "      <td>-0.009118</td>\n",
       "      <td>0.038801</td>\n",
       "    </tr>\n",
       "    <tr>\n",
       "      <th>2020-01-08</th>\n",
       "      <td>0.016086</td>\n",
       "      <td>-0.007809</td>\n",
       "      <td>0.007118</td>\n",
       "      <td>0.015929</td>\n",
       "      <td>0.049205</td>\n",
       "    </tr>\n",
       "    <tr>\n",
       "      <th>2020-01-09</th>\n",
       "      <td>0.021241</td>\n",
       "      <td>0.004799</td>\n",
       "      <td>0.010498</td>\n",
       "      <td>0.012493</td>\n",
       "      <td>-0.021945</td>\n",
       "    </tr>\n",
       "  </tbody>\n",
       "</table>\n",
       "</div>"
      ],
      "text/plain": [
       "Ticker          AAPL      AMZN     GOOGL      MSFT      TSLA\n",
       "Date                                                        \n",
       "2020-01-03 -0.009722 -0.012139 -0.005231 -0.012452  0.029633\n",
       "2020-01-06  0.007968  0.014886  0.026654  0.002585  0.019255\n",
       "2020-01-07 -0.004703  0.002092 -0.001932 -0.009118  0.038801\n",
       "2020-01-08  0.016086 -0.007809  0.007118  0.015929  0.049205\n",
       "2020-01-09  0.021241  0.004799  0.010498  0.012493 -0.021945"
      ]
     },
     "execution_count": 14,
     "metadata": {},
     "output_type": "execute_result"
    }
   ],
   "source": [
    "tickers = ['AAPL', 'MSFT', 'GOOGL', 'AMZN', 'TSLA']\n",
    "data = yf.download(tickers, start='2020-01-01', end='2025-01-01', auto_adjust=True)['Close']\n",
    "\n",
    "# Flatten column names if necessary\n",
    "if isinstance(data.columns, pd.MultiIndex):\n",
    "    data.columns = data.columns.get_level_values(1)\n",
    "\n",
    "# Calculate daily returns\n",
    "returns = data.pct_change().dropna()\n",
    "returns.head()"
   ]
  },
  {
   "cell_type": "code",
   "execution_count": 16,
   "id": "80298afe-9b5e-4a3f-a258-f13e5309e1a1",
   "metadata": {},
   "outputs": [],
   "source": [
    "# Traditional sample covariance matrix\n",
    "sample_cov = returns.cov()\n",
    "\n",
    "# Use Ledoit-Wolf shrinkage for better covariance estimate\n",
    "lw = LedoitWolf()\n",
    "lw_cov = lw.fit(returns).covariance_"
   ]
  },
  {
   "cell_type": "code",
   "execution_count": 18,
   "id": "4c8c18f7-589b-420c-ac77-9b43f56f444d",
   "metadata": {},
   "outputs": [
    {
     "data": {
      "text/plain": [
       "AAPL     3.206598e-01\n",
       "MSFT     1.307287e-01\n",
       "GOOGL    2.399121e-01\n",
       "AMZN     3.086994e-01\n",
       "TSLA     5.435594e-20\n",
       "dtype: float64"
      ]
     },
     "execution_count": 18,
     "metadata": {},
     "output_type": "execute_result"
    }
   ],
   "source": [
    "# Expected returns and covariance matrix\n",
    "mu = returns.mean().values\n",
    "Sigma = lw_cov\n",
    "n = len(mu)\n",
    "\n",
    "# Optimization variables\n",
    "w = cp.Variable(n)\n",
    "\n",
    "# Constraints: weights sum to 1, no short-selling\n",
    "constraints = [cp.sum(w) == 1, w >= 0]\n",
    "\n",
    "# Minimize portfolio variance\n",
    "portfolio_variance = cp.quad_form(w, Sigma)\n",
    "objective = cp.Minimize(portfolio_variance)\n",
    "\n",
    "# Solve the problem\n",
    "prob = cp.Problem(objective, constraints)\n",
    "prob.solve()\n",
    "\n",
    "# Optimized weights\n",
    "weights = w.value\n",
    "portfolio = pd.Series(weights, index=tickers)\n",
    "portfolio"
   ]
  },
  {
   "cell_type": "code",
   "execution_count": 20,
   "id": "e9c5f507-1dd0-44c6-bf73-a348ed429cbe",
   "metadata": {},
   "outputs": [
    {
     "data": {
      "image/png": "[encoded data removed]",
      "text/plain": [
       "<Figure size 640x480 with 1 Axes>"
      ]
     },
     "metadata": {},
     "output_type": "display_data"
    }
   ],
   "source": [
    "portfolio.plot(kind='bar', title='Optimized Portfolio Allocation')\n",
    "plt.ylabel('Weight')\n",
    "plt.show()"
   ]
  },
  {
   "cell_type": "code",
   "execution_count": null,
   "id": "e8089a11-97a7-48c1-b75b-2042fdabf1c8",
   "metadata": {},
   "outputs": [],
   "source": []
  }
 ],
 "metadata": {
  "kernelspec": {
   "display_name": "Python [conda env:base] *",
   "language": "python",
   "name": "conda-base-py"
  },
  "language_info": {
   "codemirror_mode": {
    "name": "ipython",
    "version": 3
   },
   "file_extension": ".py",
   "mimetype": "text/x-python",
   "name": "python",
   "nbconvert_exporter": "python",
   "pygments_lexer": "ipython3",
   "version": "3.12.7"
  }
 },
 "nbformat": 4,
 "nbformat_minor": 5
}
