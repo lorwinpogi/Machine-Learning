{
 "cells": [
  {
   "cell_type": "code",
   "execution_count": 5,
   "id": "9f782c68-806a-4ac8-93b3-0f5987450a6b",
   "metadata": {},
   "outputs": [],
   "source": [
    "# Install required packages if not already installed\n",
    "# !pip install fairlearn scikit-learn pandas numpy\n",
    "\n",
    "# Import libraries\n",
    "import numpy as np\n",
    "import pandas as pd\n",
    "from sklearn.datasets import fetch_openml\n",
    "from sklearn.model_selection import train_test_split\n",
    "from sklearn.preprocessing import StandardScaler\n",
    "from sklearn.linear_model import LogisticRegression\n",
    "from sklearn.metrics import accuracy_score\n",
    "from fairlearn.reductions import ExponentiatedGradient, DemographicParity\n",
    "from fairlearn.metrics import MetricFrame, selection_rate, demographic_parity_difference"
   ]
  },
  {
   "cell_type": "code",
   "execution_count": 7,
   "id": "2342c6d3-7bb5-4d21-b9fd-159788b94837",
   "metadata": {},
   "outputs": [],
   "source": [
    "# Load dataset (Adult income dataset from OpenML)\n",
    "data = fetch_openml(data_id=1590, as_frame=True)\n",
    "df = data.frame\n",
    "\n",
    "# Drop rows with missing values\n",
    "df = df.dropna()"
   ]
  },
  {
   "cell_type": "code",
   "execution_count": 9,
   "id": "c410c2e6-d17b-4660-84fd-8b02b0763620",
   "metadata": {},
   "outputs": [],
   "source": [
    "# Define features and target\n",
    "X = df.drop('class', axis=1)\n",
    "y = (df['class'] == '>50K').astype(int)\n",
    "\n",
    "# Encode categorical variables\n",
    "X_encoded = pd.get_dummies(X, drop_first=True)\n",
    "y = y.reset_index(drop=True)"
   ]
  },
  {
   "cell_type": "code",
   "execution_count": 11,
   "id": "a20ec051-a368-41a2-aa1d-81e91ce82515",
   "metadata": {},
   "outputs": [],
   "source": [
    "# Define sensitive feature for fairness analysis\n",
    "A = X['sex'].reset_index(drop=True)\n",
    "\n",
    "# Split dataset into training and testing sets\n",
    "X_train, X_test, y_train, y_test, A_train, A_test = train_test_split(\n",
    "    X_encoded, y, A, test_size=0.3, random_state=42\n",
    ")"
   ]
  },
  {
   "cell_type": "code",
   "execution_count": 13,
   "id": "6a68248b-2a06-43fe-a30d-3623bde5581c",
   "metadata": {},
   "outputs": [],
   "source": [
    "# Scale numerical features\n",
    "scaler = StandardScaler()\n",
    "X_train_scaled = scaler.fit_transform(X_train)\n",
    "X_test_scaled = scaler.transform(X_test)"
   ]
  },
  {
   "cell_type": "code",
   "execution_count": 15,
   "id": "aac84b36-5fb6-4366-9478-d5a4c871204f",
   "metadata": {},
   "outputs": [],
   "source": [
    "# Train baseline logistic regression model (without bias mitigation)\n",
    "clf = LogisticRegression(max_iter=2000)\n",
    "clf.fit(X_train_scaled, y_train)\n",
    "y_pred = clf.predict(X_test_scaled)"
   ]
  },
  {
   "cell_type": "code",
   "execution_count": 17,
   "id": "ca0728e0-6b2d-46ef-bca1-b73016392b0a",
   "metadata": {},
   "outputs": [
    {
     "name": "stdout",
     "output_type": "stream",
     "text": [
      "Selection rates (no mitigation):\n",
      "sex\n",
      "Female    0.078219\n",
      "Male      0.261562\n",
      "Name: selection_rate, dtype: float64\n"
     ]
    }
   ],
   "source": [
    "# Evaluate selection rates by group (no mitigation)\n",
    "mf = MetricFrame(metrics=selection_rate, y_true=y_test, y_pred=y_pred, sensitive_features=A_test)\n",
    "print(\"Selection rates (no mitigation):\")\n",
    "print(mf.by_group)"
   ]
  },
  {
   "cell_type": "code",
   "execution_count": 19,
   "id": "d980921a-3f60-475b-8a1d-7f7d6b9aaca8",
   "metadata": {},
   "outputs": [
    {
     "name": "stdout",
     "output_type": "stream",
     "text": [
      "\n",
      "Demographic Parity Difference (no mitigation):\n",
      "0.1833430536551267\n"
     ]
    }
   ],
   "source": [
    "# Compute demographic parity difference (no mitigation)\n",
    "print(\"\\nDemographic Parity Difference (no mitigation):\")\n",
    "print(demographic_parity_difference(y_test, y_pred, sensitive_features=A_test))\n",
    "\n",
    "# Train fair model using Exponentiated Gradient with Demographic Parity constraint\n",
    "fair_model = ExponentiatedGradient(\n",
    "    estimator=LogisticRegression(solver='liblinear'),\n",
    "    constraints=DemographicParity(),\n",
    "    eps=0.01\n",
    ")\n",
    "fair_model.fit(X_train_scaled, y_train, sensitive_features=A_train)\n",
    "y_pred_fair = fair_model.predict(X_test_scaled)"
   ]
  },
  {
   "cell_type": "code",
   "execution_count": 20,
   "id": "03cb8149-d711-45b1-95e6-399a19d25f4b",
   "metadata": {},
   "outputs": [
    {
     "name": "stdout",
     "output_type": "stream",
     "text": [
      "\n",
      "Selection rates (with mitigation):\n",
      "sex\n",
      "Female    0.156207\n",
      "Male      0.174808\n",
      "Name: selection_rate, dtype: float64\n"
     ]
    }
   ],
   "source": [
    "# Evaluate selection rates by group (with mitigation)\n",
    "mf_fair = MetricFrame(metrics=selection_rate, y_true=y_test, y_pred=y_pred_fair, sensitive_features=A_test)\n",
    "print(\"\\nSelection rates (with mitigation):\")\n",
    "print(mf_fair.by_group)"
   ]
  },
  {
   "cell_type": "code",
   "execution_count": 21,
   "id": "6afa4b13-2250-4586-88e9-0f4a071fdc12",
   "metadata": {},
   "outputs": [
    {
     "name": "stdout",
     "output_type": "stream",
     "text": [
      "\n",
      "Demographic Parity Difference (with mitigation):\n",
      "0.01860101736758024\n"
     ]
    }
   ],
   "source": [
    "# Compute demographic parity difference (with mitigation)\n",
    "print(\"\\nDemographic Parity Difference (with mitigation):\")\n",
    "print(demographic_parity_difference(y_test, y_pred_fair, sensitive_features=A_test))"
   ]
  },
  {
   "cell_type": "code",
   "execution_count": 22,
   "id": "ac42fdb8-b439-47c2-a35c-93204d60939c",
   "metadata": {},
   "outputs": [
    {
     "name": "stdout",
     "output_type": "stream",
     "text": [
      "\n",
      "Accuracy (no mitigation): 0.850077393675831\n",
      "Accuracy (with mitigation): 0.8339352841453527\n"
     ]
    }
   ],
   "source": [
    "# Compare model accuracy\n",
    "print(\"\\nAccuracy (no mitigation):\", accuracy_score(y_test, y_pred))\n",
    "print(\"Accuracy (with mitigation):\", accuracy_score(y_test, y_pred_fair))"
   ]
  }
 ],
 "metadata": {
  "kernelspec": {
   "display_name": "Python [conda env:base] *",
   "language": "python",
   "name": "conda-base-py"
  },
  "language_info": {
   "codemirror_mode": {
    "name": "ipython",
    "version": 3
   },
   "file_extension": ".py",
   "mimetype": "text/x-python",
   "name": "python",
   "nbconvert_exporter": "python",
   "pygments_lexer": "ipython3",
   "version": "3.12.7"
  }
 },
 "nbformat": 4,
 "nbformat_minor": 5
}
