{
 "cells": [
  {
   "cell_type": "code",
   "execution_count": 2,
   "id": "57bad152-951b-48aa-a0de-dbace3738536",
   "metadata": {},
   "outputs": [],
   "source": [
    "import numpy as np\n",
    "import pandas as pd\n",
    "from sklearn.ensemble import RandomForestRegressor\n",
    "from sklearn.model_selection import train_test_split\n",
    "from sklearn.metrics import mean_squared_error, r2_score\n",
    "import yfinance as yf"
   ]
  },
  {
   "cell_type": "code",
   "execution_count": 10,
   "id": "4d4343ff-7447-4049-8c5e-0fb347abc924",
   "metadata": {},
   "outputs": [
    {
     "name": "stderr",
     "output_type": "stream",
     "text": [
      "[*********************100%***********************]  1 of 1 completed\n"
     ]
    }
   ],
   "source": [
    "# Download AAPL data with 'Adj Close' column included\n",
    "data = yf.download('AAPL', start='2020-01-01', end='2023-01-01', auto_adjust=False)"
   ]
  },
  {
   "cell_type": "code",
   "execution_count": null,
   "id": "17c15713-4edb-4af0-b0da-b503ecd823ca",
   "metadata": {},
   "outputs": [],
   "source": [
    "# Calculate log return and volatility using 'Adj Close'\n",
    "data['log_return'] = np.log(data['Adj Close'] / data['Adj Close'].shift(1))\n",
    "data['volatility'] = data['log_return'].rolling(window=21).std() * np.sqrt(252)\n",
    "data = data.dropna()"
   ]
  },
  {
   "cell_type": "code",
   "execution_count": null,
   "id": "5d8de53b-c509-4488-91fb-113758fd6668",
   "metadata": {},
   "outputs": [],
   "source": [
    "# Create lag features\n",
    "data['return_lag1'] = data['log_return'].shift(1)\n",
    "data['return_lag2'] = data['log_return'].shift(2)\n",
    "data['vol_lag1'] = data['volatility'].shift(1)\n",
    "data['vol_lag2'] = data['volatility'].shift(2)\n",
    "data = data.dropna()"
   ]
  },
  {
   "cell_type": "code",
   "execution_count": null,
   "id": "abdaa8c1-2877-42bf-9eaa-d74f29e5127e",
   "metadata": {},
   "outputs": [],
   "source": [
    "model = RandomForestRegressor(n_estimators=100, random_state=42)\n",
    "model.fit(X_train, y_train)"
   ]
  },
  {
   "cell_type": "code",
   "execution_count": null,
   "id": "083b467d-d551-480f-9cb2-c18d981667ef",
   "metadata": {},
   "outputs": [],
   "source": [
    "y_pred = model.predict(X_test)\n",
    "\n",
    "print(\"RMSE:\", np.sqrt(mean_squared_error(y_test, y_pred)))\n",
    "print(\"R2 Score:\", r2_score(y_test, y_pred))"
   ]
  },
  {
   "cell_type": "code",
   "execution_count": null,
   "id": "40f9f640-ea80-4446-b2f8-e970ba4378e2",
   "metadata": {},
   "outputs": [],
   "source": [
    "latest_input = X.iloc[-1:]\n",
    "predicted_vol = model.predict(latest_input)[0]\n",
    "print(\"Predicted Next-Day Volatility:\", predicted_vol)"
   ]
  },
  {
   "cell_type": "code",
   "execution_count": null,
   "id": "d2e80026-7c2c-4a8b-b50d-188e768b9bd8",
   "metadata": {},
   "outputs": [],
   "source": []
  }
 ],
 "metadata": {
  "kernelspec": {
   "display_name": "Python [conda env:base] *",
   "language": "python",
   "name": "conda-base-py"
  },
  "language_info": {
   "codemirror_mode": {
    "name": "ipython",
    "version": 3
   },
   "file_extension": ".py",
   "mimetype": "text/x-python",
   "name": "python",
   "nbconvert_exporter": "python",
   "pygments_lexer": "ipython3",
   "version": "3.12.7"
  }
 },
 "nbformat": 4,
 "nbformat_minor": 5
}
