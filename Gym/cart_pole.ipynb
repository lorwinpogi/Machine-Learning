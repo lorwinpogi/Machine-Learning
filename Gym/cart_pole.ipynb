{
 "cells": [
  {
   "cell_type": "code",
   "execution_count": 22,
   "id": "2097f0f3-f1eb-4299-a46d-368838db1ae4",
   "metadata": {},
   "outputs": [],
   "source": [
    "# Import required libraries\n",
    "import gymnasium as gym\n",
    "import matplotlib.pyplot as plt\n",
    "from IPython.display import display, clear_output\n",
    "import time\n",
    "import numpy as np"
   ]
  },
  {
   "cell_type": "code",
   "execution_count": 24,
   "id": "38c5dad5-972f-467e-9acf-10b7398b4eb3",
   "metadata": {},
   "outputs": [],
   "source": [
    "# Create the CartPole environment with RGB frame rendering\n",
    "env = gym.make(\"CartPole-v1\", render_mode=\"rgb_array\")"
   ]
  },
  {
   "cell_type": "code",
   "execution_count": 26,
   "id": "1644d8a7-bb61-432f-a331-d441322bbdab",
   "metadata": {},
   "outputs": [
    {
     "name": "stdout",
     "output_type": "stream",
     "text": [
      "Observation space low: [-4.8               -inf -0.41887903        -inf]\n",
      "Observation space high: [4.8               inf 0.41887903        inf]\n"
     ]
    }
   ],
   "source": [
    "# Print observation space bounds\n",
    "print(\"Observation space low:\", env.observation_space.low)\n",
    "print(\"Observation space high:\", env.observation_space.high)"
   ]
  },
  {
   "cell_type": "code",
   "execution_count": 28,
   "id": "3de8e895-7d87-4b77-9784-0e32b14cd3f3",
   "metadata": {},
   "outputs": [
    {
     "data": {
      "image/png": "[encoded data removed]",
      "text/plain": [
       "<Figure size 640x480 with 1 Axes>"
      ]
     },
     "metadata": {},
     "output_type": "display_data"
    }
   ],
   "source": [
    "# Quick 100-step animation loop\n",
    "\n",
    "for i in range(100):\n",
    "    frame = env.render()\n",
    "\n",
    "    plt.clf()                      # Clear previous figure\n",
    "    plt.imshow(frame)              # Show current frame\n",
    "    plt.axis('off')                # Remove axes\n",
    "    display(plt.gcf())             # Display the figure\n",
    "    clear_output(wait=True)        # Clear output between frames\n",
    "    time.sleep(0.05)               # Delay for animation effect\n",
    "\n",
    "    action = env.action_space.sample()\n",
    "    obs, reward, terminated, truncated, info = env.step(action)\n",
    "\n",
    "    if terminated or truncated:\n",
    "        obs, info = env.reset()"
   ]
  },
  {
   "cell_type": "code",
   "execution_count": 29,
   "id": "01ed1ffc-7cc4-49c4-941c-fb0241346cf0",
   "metadata": {},
   "outputs": [],
   "source": [
    "# Full episode loop with printed observations & rewards \n",
    "obs, info = env.reset()\n",
    "done = False\n",
    "step_count = 0\n",
    "max_steps = 200  # Cap steps to prevent infinite or long loops"
   ]
  },
  {
   "cell_type": "code",
   "execution_count": 30,
   "id": "1e71c9f6-6045-4118-a828-12910dfa08f0",
   "metadata": {},
   "outputs": [
    {
     "name": "stdout",
     "output_type": "stream",
     "text": [
      "[ 0.03545967  1.1873586  -0.2185442  -2.2043173 ] -> 1.0\n"
     ]
    },
    {
     "data": {
      "image/png": "[encoded data removed]",
      "text/plain": [
       "<Figure size 640x480 with 1 Axes>"
      ]
     },
     "metadata": {},
     "output_type": "display_data"
    }
   ],
   "source": [
    "while not done and step_count < max_steps:\n",
    "    frame = env.render()\n",
    "\n",
    "    plt.clf()                      # Clear previous frame\n",
    "    plt.imshow(frame)\n",
    "    plt.axis('off')\n",
    "    display(plt.gcf())\n",
    "    clear_output(wait=True)\n",
    "    time.sleep(0.05)\n",
    "\n",
    "    action = env.action_space.sample()\n",
    "    obs, reward, terminated, truncated, info = env.step(action)\n",
    "\n",
    "    print(f\"{obs} -> {reward}\")\n",
    "\n",
    "    done = terminated or truncated\n",
    "    step_count += 1\n",
    "\n",
    "# Close the environment\n",
    "env.close()"
   ]
  },
  {
   "cell_type": "code",
   "execution_count": null,
   "id": "dc6fe1c9-ec3d-4b57-800d-3a486438ee59",
   "metadata": {},
   "outputs": [],
   "source": []
  }
 ],
 "metadata": {
  "kernelspec": {
   "display_name": "Python [conda env:base] *",
   "language": "python",
   "name": "conda-base-py"
  },
  "language_info": {
   "codemirror_mode": {
    "name": "ipython",
    "version": 3
   },
   "file_extension": ".py",
   "mimetype": "text/x-python",
   "name": "python",
   "nbconvert_exporter": "python",
   "pygments_lexer": "ipython3",
   "version": "3.12.7"
  }
 },
 "nbformat": 4,
 "nbformat_minor": 5
}
