{
 "cells": [
  {
   "cell_type": "code",
   "execution_count": 26,
   "id": "e8a6fa4f-84b8-4d46-8a84-860e21e16165",
   "metadata": {},
   "outputs": [],
   "source": [
    "import pandas as pd\n",
    "from sklearn.linear_model import LogisticRegression\n",
    "from sklearn.model_selection import train_test_split, cross_val_score\n",
    "from sklearn.metrics import accuracy_score, precision_score, confusion_matrix, classification_report, precision_recall_curve\n",
    "from sklearn.svm import SVC\n",
    "import numpy as np"
   ]
  },
  {
   "cell_type": "code",
   "execution_count": 28,
   "id": "63a11fc7-5954-4cea-92fd-ed31f6691f69",
   "metadata": {},
   "outputs": [
    {
     "name": "stdout",
     "output_type": "stream",
     "text": [
      "   Unnamed: 0 cuisine  almond  angelica  anise  anise_seed  apple  \\\n",
      "0          65  indian       0         0      0           0      0   \n",
      "1          66  indian       1         0      0           0      0   \n",
      "2          67  indian       0         0      0           0      0   \n",
      "3          68  indian       0         0      0           0      0   \n",
      "4          69  indian       0         0      0           0      0   \n",
      "\n",
      "   apple_brandy  apricot  armagnac  ...  whiskey  white_bread  white_wine  \\\n",
      "0             0        0         0  ...        0            0           0   \n",
      "1             0        0         0  ...        0            0           0   \n",
      "2             0        0         0  ...        0            0           0   \n",
      "3             0        0         0  ...        0            0           0   \n",
      "4             0        0         0  ...        0            0           0   \n",
      "\n",
      "   whole_grain_wheat_flour  wine  wood  yam  yeast  yogurt  zucchini  \n",
      "0                        0     0     0    0      0       0         0  \n",
      "1                        0     0     0    0      0       0         0  \n",
      "2                        0     0     0    0      0       0         0  \n",
      "3                        0     0     0    0      0       0         0  \n",
      "4                        0     0     0    0      0       1         0  \n",
      "\n",
      "[5 rows x 385 columns]\n"
     ]
    }
   ],
   "source": [
    "# Load the CSV from current directory\n",
    "cuisines_df = pd.read_csv(\"cuisines.csv\")\n",
    "print(cuisines_df.head())"
   ]
  },
  {
   "cell_type": "code",
   "execution_count": 30,
   "id": "3da5ed50-0ae3-4e01-beb8-887cefbe2386",
   "metadata": {},
   "outputs": [
    {
     "name": "stdout",
     "output_type": "stream",
     "text": [
      "0    indian\n",
      "1    indian\n",
      "2    indian\n",
      "3    indian\n",
      "4    indian\n",
      "Name: cuisine, dtype: object\n"
     ]
    }
   ],
   "source": [
    "# Extract labels\n",
    "cuisines_label_df = cuisines_df['cuisine']\n",
    "print(cuisines_label_df.head())"
   ]
  },
  {
   "cell_type": "code",
   "execution_count": 32,
   "id": "0a00144a-4256-4119-ad03-1288ec4d313b",
   "metadata": {},
   "outputs": [
    {
     "name": "stdout",
     "output_type": "stream",
     "text": [
      "   almond  angelica  anise  anise_seed  apple  apple_brandy  apricot  \\\n",
      "0       0         0      0           0      0             0        0   \n",
      "1       1         0      0           0      0             0        0   \n",
      "2       0         0      0           0      0             0        0   \n",
      "3       0         0      0           0      0             0        0   \n",
      "4       0         0      0           0      0             0        0   \n",
      "\n",
      "   armagnac  artemisia  artichoke  ...  whiskey  white_bread  white_wine  \\\n",
      "0         0          0          0  ...        0            0           0   \n",
      "1         0          0          0  ...        0            0           0   \n",
      "2         0          0          0  ...        0            0           0   \n",
      "3         0          0          0  ...        0            0           0   \n",
      "4         0          0          0  ...        0            0           0   \n",
      "\n",
      "   whole_grain_wheat_flour  wine  wood  yam  yeast  yogurt  zucchini  \n",
      "0                        0     0     0    0      0       0         0  \n",
      "1                        0     0     0    0      0       0         0  \n",
      "2                        0     0     0    0      0       0         0  \n",
      "3                        0     0     0    0      0       0         0  \n",
      "4                        0     0     0    0      0       1         0  \n",
      "\n",
      "[5 rows x 383 columns]\n"
     ]
    }
   ],
   "source": [
    "# Extract features\n",
    "cuisines_feature_df = cuisines_df.drop(['Unnamed: 0', 'cuisine'], axis=1)\n",
    "print(cuisines_feature_df.head())"
   ]
  }
 ],
 "metadata": {
  "kernelspec": {
   "display_name": "Python [conda env:base] *",
   "language": "python",
   "name": "conda-base-py"
  },
  "language_info": {
   "codemirror_mode": {
    "name": "ipython",
    "version": 3
   },
   "file_extension": ".py",
   "mimetype": "text/x-python",
   "name": "python",
   "nbconvert_exporter": "python",
   "pygments_lexer": "ipython3",
   "version": "3.12.7"
  }
 },
 "nbformat": 4,
 "nbformat_minor": 5
}
