{
 "cells": [
  {
   "cell_type": "code",
   "execution_count": 15,
   "id": "af2575d8-cd2f-4127-941f-d33f73042a3e",
   "metadata": {},
   "outputs": [],
   "source": [
    "import numpy as np\n",
    "import random\n",
    "import matplotlib.pyplot as plt\n",
    "from collections import defaultdict"
   ]
  },
  {
   "cell_type": "code",
   "execution_count": 17,
   "id": "b33db0f0-27b4-4676-a3ea-fd9f852e560c",
   "metadata": {},
   "outputs": [],
   "source": [
    "class GameEnvironment:\n",
    "    def __init__(self, size=5, max_energy=10, max_fatigue=10):\n",
    "        self.size = size\n",
    "        self.max_energy = max_energy\n",
    "        self.max_fatigue = max_fatigue\n",
    "        self.reset()\n",
    "        \n",
    "    def reset(self):\n",
    "        # Define the map layout\n",
    "        self.board = np.full((self.size, self.size), ' ')\n",
    "        self.place_features()\n",
    "        \n",
    "        self.peter_pos = (0, 0)\n",
    "        self.energy = self.max_energy\n",
    "        self.fatigue = 0\n",
    "        self.done = False\n",
    "        return self.get_state()\n",
    "\n",
    "    def place_features(self):\n",
    "        # Place features like Apples (A), Trees (T), Grass (G), Wolf (W)\n",
    "        self.apples = [(1, 2), (3, 3)]\n",
    "        self.rest_tiles = [(0, 3), (2, 2), (4, 1)]\n",
    "        self.wolf_pos = (4, 4)\n",
    "\n",
    "        for x, y in self.apples:\n",
    "            self.board[x, y] = 'A'\n",
    "        for x, y in self.rest_tiles:\n",
    "            self.board[x, y] = 'G'\n",
    "        wx, wy = self.wolf_pos\n",
    "        self.board[wx, wy] = 'W'\n",
    "\n",
    "    def get_state(self):\n",
    "        x, y = self.peter_pos\n",
    "        return (x, y, self.energy, self.fatigue)\n",
    "\n",
    "    def valid_actions(self):\n",
    "        return ['UP', 'DOWN', 'LEFT', 'RIGHT']\n",
    "\n",
    "    def move(self, action):\n",
    "        if self.done:\n",
    "            return self.get_state(), 0, True\n",
    "\n",
    "        x, y = self.peter_pos\n",
    "        if action == 'UP': x = max(0, x - 1)\n",
    "        elif action == 'DOWN': x = min(self.size - 1, x + 1)\n",
    "        elif action == 'LEFT': y = max(0, y - 1)\n",
    "        elif action == 'RIGHT': y = min(self.size - 1, y + 1)\n",
    "\n",
    "        self.peter_pos = (x, y)\n",
    "\n",
    "        # Energy & Fatigue adjustments\n",
    "        self.energy = max(0, self.energy - 1)\n",
    "        self.fatigue = min(self.max_fatigue, self.fatigue + 1)\n",
    "\n",
    "        tile = self.board[x, y]\n",
    "        reward = -1  # step penalty\n",
    "\n",
    "        if tile == 'A':\n",
    "            self.energy = min(self.max_energy, self.energy + 5)\n",
    "            reward += 5\n",
    "        elif tile in ['G']:\n",
    "            self.fatigue = max(0, self.fatigue - 3)\n",
    "            reward += 2\n",
    "        elif tile == 'W':\n",
    "            self.done = True\n",
    "            if self.energy >= 5 and self.fatigue <= 5:\n",
    "                reward = 100  # victory\n",
    "            else:\n",
    "                reward = -100  # defeat\n",
    "\n",
    "        # End game if exhausted\n",
    "        if self.energy <= 0:\n",
    "            self.done = True\n",
    "            reward = -50\n",
    "\n",
    "        return self.get_state(), reward, self.done"
   ]
  },
  {
   "cell_type": "code",
   "execution_count": 19,
   "id": "c6a1b9fe-7935-4286-b9a6-d1864cb514eb",
   "metadata": {},
   "outputs": [],
   "source": [
    "class QLearningAgent:\n",
    "    def __init__(self, actions, alpha=0.1, gamma=0.95, epsilon=1.0, epsilon_decay=0.995, min_epsilon=0.01):\n",
    "        self.q_table = defaultdict(lambda: defaultdict(float))\n",
    "        self.alpha = alpha\n",
    "        self.gamma = gamma\n",
    "        self.epsilon = epsilon\n",
    "        self.epsilon_decay = epsilon_decay\n",
    "        self.min_epsilon = min_epsilon\n",
    "        self.actions = actions\n",
    "\n",
    "    def choose_action(self, state):\n",
    "        if random.random() < self.epsilon:\n",
    "            return random.choice(self.actions)\n",
    "        qs = self.q_table[state]\n",
    "        return max(qs, key=qs.get) if qs else random.choice(self.actions)\n",
    "\n",
    "    def learn(self, state, action, reward, next_state):\n",
    "        max_future_q = max(self.q_table[next_state].values()) if self.q_table[next_state] else 0\n",
    "        current_q = self.q_table[state][action]\n",
    "        self.q_table[state][action] += self.alpha * (reward + self.gamma * max_future_q - current_q)\n",
    "\n",
    "    def decay_epsilon(self):\n",
    "        self.epsilon = max(self.min_epsilon, self.epsilon * self.epsilon_decay)"
   ]
  },
  {
   "cell_type": "code",
   "execution_count": 21,
   "id": "7d717859-367b-4326-bd63-77e139095da3",
   "metadata": {},
   "outputs": [
    {
     "name": "stdout",
     "output_type": "stream",
     "text": [
      "Q-Learning Wins: 4521, Losses: 380\n"
     ]
    }
   ],
   "source": [
    "env = GameEnvironment()\n",
    "agent = QLearningAgent(actions=env.valid_actions())\n",
    "\n",
    "episodes = 5000\n",
    "win_count = 0\n",
    "loss_count = 0\n",
    "rewards = []\n",
    "\n",
    "for ep in range(episodes):\n",
    "    state = env.reset()\n",
    "    total_reward = 0\n",
    "\n",
    "    for _ in range(50):  # Max steps per episode\n",
    "        action = agent.choose_action(state)\n",
    "        next_state, reward, done = env.move(action)\n",
    "        agent.learn(state, action, reward, next_state)\n",
    "        state = next_state\n",
    "        total_reward += reward\n",
    "        if done:\n",
    "            if reward == 100:\n",
    "                win_count += 1\n",
    "            else:\n",
    "                loss_count += 1\n",
    "            break\n",
    "    agent.decay_epsilon()\n",
    "    rewards.append(total_reward)\n",
    "\n",
    "print(f\"Q-Learning Wins: {win_count}, Losses: {loss_count}\")"
   ]
  },
  {
   "cell_type": "code",
   "execution_count": 23,
   "id": "33b1415a-ae12-4117-871e-9fc50de7d0e3",
   "metadata": {},
   "outputs": [
    {
     "name": "stdout",
     "output_type": "stream",
     "text": [
      "Random Walk Wins: 6, Losses: 4993\n"
     ]
    }
   ],
   "source": [
    "def random_walk_simulation(episodes=5000):\n",
    "    wins = 0\n",
    "    losses = 0\n",
    "\n",
    "    for _ in range(episodes):\n",
    "        env = GameEnvironment()\n",
    "        state = env.reset()\n",
    "\n",
    "        for _ in range(50):\n",
    "            action = random.choice(env.valid_actions())\n",
    "            next_state, reward, done = env.move(action)\n",
    "            state = next_state\n",
    "            if done:\n",
    "                if reward == 100:\n",
    "                    wins += 1\n",
    "                else:\n",
    "                    losses += 1\n",
    "                break\n",
    "    return wins, losses\n",
    "\n",
    "rw_wins, rw_losses = random_walk_simulation()\n",
    "print(f\"Random Walk Wins: {rw_wins}, Losses: {rw_losses}\")"
   ]
  },
  {
   "cell_type": "code",
   "execution_count": 25,
   "id": "46c1732d-2a70-4a0d-be55-917dd28a9b30",
   "metadata": {},
   "outputs": [
    {
     "data": {
      "image/png": "[encoded data removed]",
      "text/plain": [
       "<Figure size 640x480 with 1 Axes>"
      ]
     },
     "metadata": {},
     "output_type": "display_data"
    }
   ],
   "source": [
    "plt.plot(rewards)\n",
    "plt.title(\"Q-Learning: Episode Rewards\")\n",
    "plt.xlabel(\"Episode\")\n",
    "plt.ylabel(\"Total Reward\")\n",
    "plt.grid()\n",
    "plt.show()"
   ]
  },
  {
   "cell_type": "code",
   "execution_count": null,
   "id": "3b51f62a-271c-4d84-a096-d6c3ced0e84d",
   "metadata": {},
   "outputs": [],
   "source": []
  },
  {
   "cell_type": "code",
   "execution_count": null,
   "id": "7df8205a-a7d4-4c3c-9192-6d5530ba6eef",
   "metadata": {},
   "outputs": [],
   "source": []
  },
  {
   "cell_type": "code",
   "execution_count": null,
   "id": "95428240-589f-4751-919a-4f76eb262050",
   "metadata": {},
   "outputs": [],
   "source": []
  }
 ],
 "metadata": {
  "kernelspec": {
   "display_name": "Python [conda env:base] *",
   "language": "python",
   "name": "conda-base-py"
  },
  "language_info": {
   "codemirror_mode": {
    "name": "ipython",
    "version": 3
   },
   "file_extension": ".py",
   "mimetype": "text/x-python",
   "name": "python",
   "nbconvert_exporter": "python",
   "pygments_lexer": "ipython3",
   "version": "3.12.7"
  }
 },
 "nbformat": 4,
 "nbformat_minor": 5
}
