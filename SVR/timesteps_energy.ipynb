{
 "cells": [
  {
   "cell_type": "code",
   "execution_count": 3,
   "id": "84120c4e-fdb0-42e3-8fde-57c49cd557d8",
   "metadata": {},
   "outputs": [
    {
     "name": "stdout",
     "output_type": "stream",
     "text": [
      "(1393, 23) (1393, 1)\n",
      "(25, 23) (25, 1)\n"
     ]
    }
   ],
   "source": [
    "import sys\n",
    "sys.path.append('../../')\n",
    "\n",
    "import os\n",
    "import warnings\n",
    "import matplotlib.pyplot as plt\n",
    "import numpy as np\n",
    "import pandas as pd\n",
    "import datetime as dt\n",
    "import math\n",
    "\n",
    "from sklearn.svm import SVR\n",
    "from sklearn.preprocessing import MinMaxScaler\n",
    "\n",
    "# Define fallback versions of missing utils\n",
    "def load_data(filepath):\n",
    "    return pd.read_csv(filepath)\n",
    "\n",
    "def mape(y_true, y_pred):\n",
    "    return np.mean(np.abs((y_true - y_pred) / y_true)) * 100\n",
    "\n",
    "# Load data\n",
    "df = load_data('energy.csv')\n",
    "\n",
    "# Ensure timestamp is datetime and set as index\n",
    "df['timestamp'] = pd.to_datetime(df['timestamp'])\n",
    "df.set_index('timestamp', inplace=True)\n",
    "\n",
    "# Define date ranges\n",
    "train_start_dt = '2014-11-01 00:00:00'\n",
    "test_start_dt = '2014-12-30 00:00:00'\n",
    "\n",
    "# Create train and test sets\n",
    "train = df.copy()[(df.index >= train_start_dt) & (df.index < test_start_dt)][['load']]\n",
    "test = df.copy()[df.index >= test_start_dt][['load']]\n",
    "\n",
    "# Scale data\n",
    "scaler = MinMaxScaler()\n",
    "train['load'] = scaler.fit_transform(train)\n",
    "test['load'] = scaler.transform(test)\n",
    "\n",
    "# Define timesteps\n",
    "timesteps = 24  # or any value you'd like (e.g., 24 hours)\n",
    "\n",
    "# Convert to numpy arrays\n",
    "train_data = train.values\n",
    "test_data = test.values\n",
    "\n",
    "# Create sequences for training\n",
    "train_data_timesteps = np.array(\n",
    "    [[j for j in train_data[i:i+timesteps]] for i in range(len(train_data) - timesteps + 1)]\n",
    ")[:, :, 0]\n",
    "\n",
    "# Create sequences for testing\n",
    "test_data_timesteps = np.array(\n",
    "    [[j for j in test_data[i:i+timesteps]] for i in range(len(test_data) - timesteps + 1)]\n",
    ")[:, :, 0]\n",
    "\n",
    "# Split into features and targets\n",
    "x_train, y_train = train_data_timesteps[:, :timesteps-1], train_data_timesteps[:, [timesteps-1]]\n",
    "x_test, y_test = test_data_timesteps[:, :timesteps-1], test_data_timesteps[:, [timesteps-1]]\n",
    "\n",
    "# Show shapes\n",
    "print(x_train.shape, y_train.shape)\n",
    "print(x_test.shape, y_test.shape)"
   ]
  },
  {
   "cell_type": "code",
   "execution_count": null,
   "id": "adac5a2e-7370-4c9a-9d5e-f954a5b26b35",
   "metadata": {},
   "outputs": [],
   "source": []
  }
 ],
 "metadata": {
  "kernelspec": {
   "display_name": "Python [conda env:base] *",
   "language": "python",
   "name": "conda-base-py"
  },
  "language_info": {
   "codemirror_mode": {
    "name": "ipython",
    "version": 3
   },
   "file_extension": ".py",
   "mimetype": "text/x-python",
   "name": "python",
   "nbconvert_exporter": "python",
   "pygments_lexer": "ipython3",
   "version": "3.12.7"
  }
 },
 "nbformat": 4,
 "nbformat_minor": 5
}
