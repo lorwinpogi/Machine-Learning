{
 "cells": [
  {
   "cell_type": "code",
   "execution_count": 17,
   "id": "61f50e41-d7a8-4fc7-954e-4c6278994ce8",
   "metadata": {},
   "outputs": [
    {
     "name": "stdout",
     "output_type": "stream",
     "text": [
      "Loading data...\n",
      "Original shape: (26304, 3)\n",
      "Sampled shape: (5000, 3)\n",
      "Selecting features and target...\n",
      "Splitting data...\n",
      "Scaling features...\n",
      "Training SVR model...\n",
      "Predicting on train and test sets...\n",
      "Train prediction shape: (4000, 1)\n",
      "Test prediction shape: (1000, 1)\n"
     ]
    }
   ],
   "source": [
    "import pandas as pd\n",
    "import numpy as np\n",
    "from sklearn.model_selection import train_test_split\n",
    "from sklearn.preprocessing import StandardScaler\n",
    "from sklearn.svm import SVR\n",
    "\n",
    "# Load and Sample Data\n",
    "print(\"Loading data...\")\n",
    "df = pd.read_csv(\"energy.csv\")\n",
    "\n",
    "print(\"Original shape:\", df.shape)\n",
    "\n",
    "# Use a smaller sample for debugging/training speed\n",
    "df = df.sample(n=5000, random_state=42)\n",
    "print(\"Sampled shape:\", df.shape)\n",
    "\n",
    "# Select Features and Target\n",
    "print(\"Selecting features and target...\")\n",
    "feature_cols = ['temp']\n",
    "target_cols = ['load']\n",
    "\n",
    "x = df[feature_cols].values\n",
    "y = df[target_cols].values\n",
    "\n",
    "# Train/Test Split\n",
    "print(\"Splitting data...\")\n",
    "x_train, x_test, y_train, y_test = train_test_split(\n",
    "    x, y, test_size=0.2, random_state=42\n",
    ")\n",
    "\n",
    "# Feature Scaling\n",
    "print(\"Scaling features...\")\n",
    "scaler_x = StandardScaler()\n",
    "x_train = scaler_x.fit_transform(x_train)\n",
    "x_test = scaler_x.transform(x_test)\n",
    "\n",
    "# Model Training\n",
    "print(\"Training SVR model...\")\n",
    "model = SVR(kernel='rbf', gamma=0.5, C=10, epsilon=0.05)\n",
    "model.fit(x_train, y_train.ravel())\n",
    "\n",
    "# Prediction\n",
    "print(\"Predicting on train and test sets...\")\n",
    "y_train_pred = model.predict(x_train).reshape(-1, 1)\n",
    "y_test_pred = model.predict(x_test).reshape(-1, 1)\n",
    "\n",
    "# Output Shapes\n",
    "print(\"Train prediction shape:\", y_train_pred.shape)\n",
    "print(\"Test prediction shape:\", y_test_pred.shape)"
   ]
  },
  {
   "cell_type": "code",
   "execution_count": null,
   "id": "b02c66c6-8e64-47fa-9dd3-da466a08d3b2",
   "metadata": {},
   "outputs": [],
   "source": []
  }
 ],
 "metadata": {
  "kernelspec": {
   "display_name": "Python [conda env:base] *",
   "language": "python",
   "name": "conda-base-py"
  },
  "language_info": {
   "codemirror_mode": {
    "name": "ipython",
    "version": 3
   },
   "file_extension": ".py",
   "mimetype": "text/x-python",
   "name": "python",
   "nbconvert_exporter": "python",
   "pygments_lexer": "ipython3",
   "version": "3.12.7"
  }
 },
 "nbformat": 4,
 "nbformat_minor": 5
}
