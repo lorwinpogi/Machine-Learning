{
 "cells": [
  {
   "cell_type": "code",
   "execution_count": 26,
   "id": "0e7697fd-22f8-485e-b524-dac21bd0ee4b",
   "metadata": {},
   "outputs": [],
   "source": [
    "import pandas as pd\n",
    "import numpy as np\n",
    "from sklearn.model_selection import train_test_split\n",
    "from sklearn.pipeline import make_pipeline\n",
    "from sklearn.preprocessing import PolynomialFeatures\n",
    "from sklearn.linear_model import LinearRegression\n",
    "from sklearn.metrics import mean_squared_error"
   ]
  },
  {
   "cell_type": "code",
   "execution_count": 36,
   "id": "d833e186-0be7-4e2a-a099-d8a16023f81b",
   "metadata": {},
   "outputs": [],
   "source": [
    "df = pd.read_csv(\"US-pumpkins.csv\")\n",
    "df = df[['Variety', 'City Name', 'Package', 'Date', 'Low Price']].dropna()\n",
    "df = df.rename(columns={\n",
    "    'City Name': 'City',\n",
    "    'Low Price': 'Price'\n",
    "})\n",
    "df['Date'] = pd.to_datetime(df['Date'], format=\"%m/%d/%y\", errors='coerce')\n",
    "df = df.dropna(subset=['Date'])\n",
    "df['DayOfYear'] = df['Date'].dt.dayofyear"
   ]
  },
  {
   "cell_type": "code",
   "execution_count": 38,
   "id": "71f3452d-30d3-441d-bdc6-e7228d40f02e",
   "metadata": {},
   "outputs": [],
   "source": [
    "def evaluate_model(X, y, model_name, polynomial=False):\n",
    "    X_train, X_test, y_train, y_test = train_test_split(X, y, test_size=0.2, random_state=0)\n",
    "    model = make_pipeline(PolynomialFeatures(2), LinearRegression()) if polynomial else LinearRegression()\n",
    "    model.fit(X_train, y_train)\n",
    "    pred = model.predict(X_test)\n",
    "    rmse = np.sqrt(mean_squared_error(y_test, pred))\n",
    "    perc_error = rmse / np.mean(y_test) * 100\n",
    "    score = model.score(X_train, y_train)\n",
    "    return model_name, rmse, perc_error, score\n"
   ]
  },
  {
   "cell_type": "code",
   "execution_count": 40,
   "id": "25a09d3b-dd50-4411-8e50-6cf224bc0d93",
   "metadata": {},
   "outputs": [],
   "source": [
    "results = []\n",
    "\n",
    "# DayOfYear models\n",
    "X = df[['DayOfYear']]\n",
    "y = df['Price']\n",
    "results.append(evaluate_model(X, y, \"DayOfYear Linear\", polynomial=False))\n",
    "results.append(evaluate_model(X, y, \"DayOfYear Polynomial\", polynomial=True))\n",
    "\n",
    "# Variety only\n",
    "X = pd.get_dummies(df['Variety'])\n",
    "results.append(evaluate_model(X, y, \"Variety Linear\", polynomial=False))\n",
    "\n",
    "# All features\n",
    "X = pd.get_dummies(df[['Variety', 'City', 'Package']])\n",
    "X = X.join(df['DayOfYear'])\n",
    "results.append(evaluate_model(X, y, \"All features Linear\", polynomial=False))\n",
    "results.append(evaluate_model(X, y, \"All features Polynomial\", polynomial=True))\n"
   ]
  },
  {
   "cell_type": "code",
   "execution_count": 42,
   "id": "b9dd92c8-4a0d-4765-8f47-32c9283f9a4d",
   "metadata": {},
   "outputs": [
    {
     "data": {
      "text/html": [
       "<div>\n",
       "<style scoped>\n",
       "    .dataframe tbody tr th:only-of-type {\n",
       "        vertical-align: middle;\n",
       "    }\n",
       "\n",
       "    .dataframe tbody tr th {\n",
       "        vertical-align: top;\n",
       "    }\n",
       "\n",
       "    .dataframe thead th {\n",
       "        text-align: right;\n",
       "    }\n",
       "</style>\n",
       "<table border=\"1\" class=\"dataframe\">\n",
       "  <thead>\n",
       "    <tr style=\"text-align: right;\">\n",
       "      <th></th>\n",
       "      <th>Model</th>\n",
       "      <th>MSE</th>\n",
       "      <th>Percent Error</th>\n",
       "      <th>Determination</th>\n",
       "    </tr>\n",
       "  </thead>\n",
       "  <tbody>\n",
       "    <tr>\n",
       "      <th>0</th>\n",
       "      <td>DayOfYear Linear</td>\n",
       "      <td>80.97</td>\n",
       "      <td>65.4%</td>\n",
       "      <td>0.02</td>\n",
       "    </tr>\n",
       "    <tr>\n",
       "      <th>1</th>\n",
       "      <td>DayOfYear Polynomial</td>\n",
       "      <td>80.81</td>\n",
       "      <td>65.3%</td>\n",
       "      <td>0.02</td>\n",
       "    </tr>\n",
       "    <tr>\n",
       "      <th>2</th>\n",
       "      <td>Variety Linear</td>\n",
       "      <td>63.64</td>\n",
       "      <td>51.4%</td>\n",
       "      <td>0.34</td>\n",
       "    </tr>\n",
       "    <tr>\n",
       "      <th>3</th>\n",
       "      <td>All features Linear</td>\n",
       "      <td>36.76</td>\n",
       "      <td>29.7%</td>\n",
       "      <td>0.78</td>\n",
       "    </tr>\n",
       "    <tr>\n",
       "      <th>4</th>\n",
       "      <td>All features Polynomial</td>\n",
       "      <td>19999980.82</td>\n",
       "      <td>16157921.7%</td>\n",
       "      <td>0.93</td>\n",
       "    </tr>\n",
       "  </tbody>\n",
       "</table>\n",
       "</div>"
      ],
      "text/plain": [
       "                     Model          MSE Percent Error Determination\n",
       "0         DayOfYear Linear        80.97         65.4%          0.02\n",
       "1     DayOfYear Polynomial        80.81         65.3%          0.02\n",
       "2           Variety Linear        63.64         51.4%          0.34\n",
       "3      All features Linear        36.76         29.7%          0.78\n",
       "4  All features Polynomial  19999980.82   16157921.7%          0.93"
      ]
     },
     "execution_count": 42,
     "metadata": {},
     "output_type": "execute_result"
    }
   ],
   "source": [
    "results_df = pd.DataFrame(results, columns=[\"Model\", \"MSE\", \"Percent Error\", \"Determination\"])\n",
    "results_df[\"MSE\"] = results_df[\"MSE\"].apply(lambda x: f\"{x:.2f}\")\n",
    "results_df[\"Percent Error\"] = results_df[\"Percent Error\"].apply(lambda x: f\"{x:.1f}%\")\n",
    "results_df[\"Determination\"] = results_df[\"Determination\"].apply(lambda x: f\"{x:.2f}\")\n",
    "results_df\n"
   ]
  },
  {
   "cell_type": "code",
   "execution_count": null,
   "id": "e8dd315d-e0cd-4bd6-b892-5752360fe3b2",
   "metadata": {},
   "outputs": [],
   "source": []
  }
 ],
 "metadata": {
  "kernelspec": {
   "display_name": "Python [conda env:base] *",
   "language": "python",
   "name": "conda-base-py"
  },
  "language_info": {
   "codemirror_mode": {
    "name": "ipython",
    "version": 3
   },
   "file_extension": ".py",
   "mimetype": "text/x-python",
   "name": "python",
   "nbconvert_exporter": "python",
   "pygments_lexer": "ipython3",
   "version": "3.12.7"
  }
 },
 "nbformat": 4,
 "nbformat_minor": 5
}
