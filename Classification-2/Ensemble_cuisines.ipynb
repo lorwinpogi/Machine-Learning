{
 "cells": [
  {
   "cell_type": "code",
   "execution_count": 8,
   "id": "8df4e06c-45c1-44e4-b017-9d76d5992fde",
   "metadata": {},
   "outputs": [],
   "source": [
    "import pandas as pd\n",
    "from sklearn.model_selection import train_test_split\n",
    "from sklearn.preprocessing import LabelEncoder, StandardScaler\n",
    "from sklearn.ensemble import RandomForestClassifier, AdaBoostClassifier\n",
    "from sklearn.metrics import accuracy_score, precision_score, classification_report, confusion_matrix\n",
    "\n",
    "# Load the dataset\n",
    "df = pd.read_csv('cuisines.csv')"
   ]
  },
  {
   "cell_type": "code",
   "execution_count": 10,
   "id": "3449c7dd-1d31-4210-bf0b-d8ccc7f3cf1a",
   "metadata": {},
   "outputs": [],
   "source": [
    "# Separate features and target\n",
    "X = df.drop('cuisine', axis=1)\n",
    "y = df['cuisine']"
   ]
  },
  {
   "cell_type": "code",
   "execution_count": 12,
   "id": "d99af5a0-315a-4a04-a5b7-26f17362c364",
   "metadata": {},
   "outputs": [],
   "source": [
    "# Encode target labels\n",
    "le = LabelEncoder()\n",
    "y_encoded = le.fit_transform(y)"
   ]
  },
  {
   "cell_type": "code",
   "execution_count": 14,
   "id": "ee2b3737-5337-4fdc-b6ae-bd5100e4c1dc",
   "metadata": {},
   "outputs": [],
   "source": [
    "# Scale features\n",
    "scaler = StandardScaler()\n",
    "X_scaled = scaler.fit_transform(X)"
   ]
  },
  {
   "cell_type": "code",
   "execution_count": 16,
   "id": "a42c2e80-7da9-4e6d-ac16-85a6cfd66cf8",
   "metadata": {},
   "outputs": [],
   "source": [
    "# Split data\n",
    "X_train, X_test, y_train, y_test = train_test_split(X_scaled, y_encoded, test_size=0.3, random_state=42)"
   ]
  },
  {
   "cell_type": "code",
   "execution_count": 18,
   "id": "8f9ca3a2-3908-475a-b77a-c6b2f349e1a8",
   "metadata": {},
   "outputs": [],
   "source": [
    "# Define ensemble classifiers\n",
    "ensemble_models = {\n",
    "    \"Random Forest\": RandomForestClassifier(random_state=42),\n",
    "    \"AdaBoost\": AdaBoostClassifier(algorithm='SAMME', random_state=42)\n",
    "}"
   ]
  },
  {
   "cell_type": "code",
   "execution_count": 20,
   "id": "d05f4cd3-b3b1-459c-ac41-bc1f7e0841ae",
   "metadata": {},
   "outputs": [
    {
     "name": "stdout",
     "output_type": "stream",
     "text": [
      "\n",
      "===== Random Forest =====\n",
      "Accuracy: 0.9007\n",
      "Precision (weighted): 0.9038\n",
      "Classification Report:\n",
      "              precision    recall  f1-score   support\n",
      "\n",
      "     chinese       0.84      0.89      0.87       145\n",
      "      indian       0.87      0.99      0.93       177\n",
      "    japanese       0.96      0.75      0.84        88\n",
      "      korean       0.94      0.97      0.96       229\n",
      "        thai       0.92      0.72      0.81        96\n",
      "\n",
      "    accuracy                           0.90       735\n",
      "   macro avg       0.91      0.86      0.88       735\n",
      "weighted avg       0.90      0.90      0.90       735\n",
      "\n",
      "Confusion Matrix:\n",
      "[[129   6   2   6   2]\n",
      " [  0 175   0   0   2]\n",
      " [ 13   2  66   5   2]\n",
      " [  3   2   1 223   0]\n",
      " [  8  16   0   3  69]]\n",
      "\n",
      "===== AdaBoost =====\n",
      "Accuracy: 0.8503\n",
      "Precision (weighted): 0.8572\n",
      "Classification Report:\n",
      "              precision    recall  f1-score   support\n",
      "\n",
      "     chinese       0.75      0.79      0.77       145\n",
      "      indian       0.99      0.77      0.87       177\n",
      "    japanese       0.62      0.58      0.60        88\n",
      "      korean       0.85      1.00      0.92       229\n",
      "        thai       1.00      1.00      1.00        96\n",
      "\n",
      "    accuracy                           0.85       735\n",
      "   macro avg       0.84      0.83      0.83       735\n",
      "weighted avg       0.86      0.85      0.85       735\n",
      "\n",
      "Confusion Matrix:\n",
      "[[114   0  31   0   0]\n",
      " [  0 136   0  41   0]\n",
      " [ 37   0  51   0   0]\n",
      " [  0   1   0 228   0]\n",
      " [  0   0   0   0  96]]\n"
     ]
    }
   ],
   "source": [
    "# Train and evaluate each ensemble model\n",
    "for name, model in ensemble_models.items():\n",
    "    print(f\"\\n===== {name} =====\")\n",
    "    model.fit(X_train, y_train)\n",
    "    preds = model.predict(X_test)\n",
    "    \n",
    "    acc = accuracy_score(y_test, preds)\n",
    "    prec = precision_score(y_test, preds, average='weighted', zero_division=0)\n",
    "    \n",
    "    print(f\"Accuracy: {acc:.4f}\")\n",
    "    print(f\"Precision (weighted): {prec:.4f}\")\n",
    "    print(\"Classification Report:\")\n",
    "    print(classification_report(y_test, preds, target_names=le.classes_, zero_division=0))\n",
    "    print(\"Confusion Matrix:\")\n",
    "    print(confusion_matrix(y_test, preds))"
   ]
  }
 ],
 "metadata": {
  "kernelspec": {
   "display_name": "Python [conda env:base] *",
   "language": "python",
   "name": "conda-base-py"
  },
  "language_info": {
   "codemirror_mode": {
    "name": "ipython",
    "version": 3
   },
   "file_extension": ".py",
   "mimetype": "text/x-python",
   "name": "python",
   "nbconvert_exporter": "python",
   "pygments_lexer": "ipython3",
   "version": "3.12.7"
  }
 },
 "nbformat": 4,
 "nbformat_minor": 5
}
