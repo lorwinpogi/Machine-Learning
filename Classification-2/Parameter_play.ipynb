{
 "cells": [
  {
   "cell_type": "code",
   "execution_count": 19,
   "id": "1855f706-7012-448c-bf85-6709693d348d",
   "metadata": {},
   "outputs": [],
   "source": [
    "from sklearn.datasets import load_breast_cancer\n",
    "from sklearn.model_selection import train_test_split\n",
    "from sklearn.ensemble import RandomForestClassifier\n",
    "from sklearn.metrics import accuracy_score, classification_report\n",
    "import pandas as pd"
   ]
  },
  {
   "cell_type": "code",
   "execution_count": 21,
   "id": "fcb18275-fe7a-4d92-954c-8f11f6277f58",
   "metadata": {},
   "outputs": [],
   "source": [
    "# Load Breast Cancer dataset\n",
    "data = load_breast_cancer()\n",
    "X = data.data\n",
    "y = data.target"
   ]
  },
  {
   "cell_type": "code",
   "execution_count": 23,
   "id": "24655c02-fe45-4e57-92fb-429408e673a9",
   "metadata": {},
   "outputs": [
    {
     "name": "stdout",
     "output_type": "stream",
     "text": [
      "Dataset Name: Breast Cancer Wisconsin (Diagnostic)\n"
     ]
    }
   ],
   "source": [
    "# Print dataset name\n",
    "print(\"Dataset Name:\", \"Breast Cancer Wisconsin (Diagnostic)\")\n",
    "\n",
    "# Split dataset into training and test sets\n",
    "X_train, X_test, y_train, y_test = train_test_split(\n",
    "    X, y, test_size=0.2, random_state=42, stratify=y\n",
    ")"
   ]
  },
  {
   "cell_type": "code",
   "execution_count": 25,
   "id": "fb4ad77f-6915-4357-9bad-e1ca6a15305f",
   "metadata": {},
   "outputs": [
    {
     "name": "stdout",
     "output_type": "stream",
     "text": [
      "\n",
      "Baseline Accuracy: 0.956140350877193\n",
      "              precision    recall  f1-score   support\n",
      "\n",
      "           0       0.95      0.93      0.94        42\n",
      "           1       0.96      0.97      0.97        72\n",
      "\n",
      "    accuracy                           0.96       114\n",
      "   macro avg       0.96      0.95      0.95       114\n",
      "weighted avg       0.96      0.96      0.96       114\n",
      "\n"
     ]
    }
   ],
   "source": [
    "# Baseline model with default parameters\n",
    "baseline_clf = RandomForestClassifier(random_state=42)\n",
    "baseline_clf.fit(X_train, y_train)\n",
    "y_pred_baseline = baseline_clf.predict(X_test)\n",
    "baseline_acc = accuracy_score(y_test, y_pred_baseline)\n",
    "print(\"\\nBaseline Accuracy:\", baseline_acc)\n",
    "print(classification_report(y_test, y_pred_baseline))"
   ]
  },
  {
   "cell_type": "code",
   "execution_count": 27,
   "id": "46513b81-34ee-4d2c-9bd2-08f5f19fa451",
   "metadata": {},
   "outputs": [
    {
     "name": "stdout",
     "output_type": "stream",
     "text": [
      "\n",
      "Accuracy with more trees: 0.9473684210526315\n"
     ]
    }
   ],
   "source": [
    "# Model with more trees\n",
    "clf_more_trees = RandomForestClassifier(n_estimators=300, random_state=42)\n",
    "clf_more_trees.fit(X_train, y_train)\n",
    "y_pred_more_trees = clf_more_trees.predict(X_test)\n",
    "acc_more_trees = accuracy_score(y_test, y_pred_more_trees)\n",
    "print(\"\\nAccuracy with more trees:\", acc_more_trees)"
   ]
  },
  {
   "cell_type": "code",
   "execution_count": 28,
   "id": "1c7abd3c-2206-4607-b7f4-99c9272e8821",
   "metadata": {},
   "outputs": [
    {
     "name": "stdout",
     "output_type": "stream",
     "text": [
      "\n",
      "Accuracy with shallow trees: 0.956140350877193\n"
     ]
    }
   ],
   "source": [
    "# Model with shallow depth\n",
    "clf_shallow = RandomForestClassifier(max_depth=3, random_state=42)\n",
    "clf_shallow.fit(X_train, y_train)\n",
    "y_pred_shallow = clf_shallow.predict(X_test)\n",
    "acc_shallow = accuracy_score(y_test, y_pred_shallow)\n",
    "print(\"\\nAccuracy with shallow trees:\", acc_shallow)"
   ]
  },
  {
   "cell_type": "code",
   "execution_count": 31,
   "id": "f6b2bde6-97fd-4d0c-a714-3e20a7d3d19b",
   "metadata": {},
   "outputs": [
    {
     "name": "stdout",
     "output_type": "stream",
     "text": [
      "\n",
      "Accuracy with higher min_samples_split: 0.956140350877193\n"
     ]
    }
   ],
   "source": [
    "# Model with higher min_samples_split\n",
    "clf_more_split = RandomForestClassifier(min_samples_split=10, random_state=42)\n",
    "clf_more_split.fit(X_train, y_train)\n",
    "y_pred_more_split = clf_more_split.predict(X_test)\n",
    "acc_more_split = accuracy_score(y_test, y_pred_more_split)\n",
    "print(\"\\nAccuracy with higher min_samples_split:\", acc_more_split)"
   ]
  },
  {
   "cell_type": "code",
   "execution_count": 33,
   "id": "211a20aa-4eb4-4e97-9b4f-dd7b0ff5fd94",
   "metadata": {},
   "outputs": [
    {
     "name": "stdout",
     "output_type": "stream",
     "text": [
      "\n",
      "Comparison of Model Accuracies:\n",
      "                           Model  Accuracy\n",
      "0                       Baseline  0.956140\n",
      "1               More Trees (300)  0.947368\n",
      "2              Shallow Depth (3)  0.956140\n",
      "3  Higher min_samples_split (10)  0.956140\n"
     ]
    }
   ],
   "source": [
    "\n",
    "# Compare results in a DataFrame\n",
    "results_df = pd.DataFrame({\n",
    "    \"Model\": [\n",
    "        \"Baseline\",\n",
    "        \"More Trees (300)\",\n",
    "        \"Shallow Depth (3)\",\n",
    "        \"Higher min_samples_split (10)\"\n",
    "    ],\n",
    "    \"Accuracy\": [\n",
    "        baseline_acc,\n",
    "        acc_more_trees,\n",
    "        acc_shallow,\n",
    "        acc_more_split\n",
    "    ]\n",
    "})\n",
    "\n",
    "print(\"\\nComparison of Model Accuracies:\")\n",
    "print(results_df)"
   ]
  },
  {
   "cell_type": "code",
   "execution_count": null,
   "id": "1bbd619b-e847-4712-9176-cc6ed26ee0fc",
   "metadata": {},
   "outputs": [],
   "source": []
  }
 ],
 "metadata": {
  "kernelspec": {
   "display_name": "Python [conda env:base] *",
   "language": "python",
   "name": "conda-base-py"
  },
  "language_info": {
   "codemirror_mode": {
    "name": "ipython",
    "version": 3
   },
   "file_extension": ".py",
   "mimetype": "text/x-python",
   "name": "python",
   "nbconvert_exporter": "python",
   "pygments_lexer": "ipython3",
   "version": "3.12.7"
  }
 },
 "nbformat": 4,
 "nbformat_minor": 5
}
