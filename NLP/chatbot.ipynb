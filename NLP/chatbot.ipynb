{
 "cells": [
  {
   "cell_type": "code",
   "execution_count": null,
   "id": "9243b4cf-217f-41a0-8d10-98ceb0ae8301",
   "metadata": {},
   "outputs": [
    {
     "name": "stdout",
     "output_type": "stream",
     "text": [
      "Hello, I am Marvin, the simple robot.\n",
      "You can end this conversation at any time by typing 'bye'\n",
      "After typing each answer, press 'enter'\n",
      "How are you today?\n"
     ]
    }
   ],
   "source": [
    "import random\n",
    "\n",
    "# This list contains the random responses (you can add your own or translate them into your own language too)\n",
    "random_responses = [\"That is quite interesting, please tell me more.\",\n",
    "                    \"I see. Do go on.\",\n",
    "                    \"Why do you say that?\",\n",
    "                    \"Funny weather we've been having, isn't it?\",\n",
    "                    \"Let's change the subject.\",\n",
    "                    \"Did you catch the game last night?\"]\n",
    "\n",
    "print(\"Hello, I am Marvin, the simple robot.\")\n",
    "print(\"You can end this conversation at any time by typing 'bye'\")\n",
    "print(\"After typing each answer, press 'enter'\")\n",
    "print(\"How are you today?\")\n",
    "\n",
    "while True:\n",
    "    # wait for the user to enter some text\n",
    "    user_input = input(\"> \")\n",
    "    if user_input.lower() == \"bye\":\n",
    "        # if they typed in 'bye' (or even BYE, ByE, byE etc.), break out of the loop\n",
    "        break\n",
    "    else:\n",
    "        response = random.choices(random_responses)[0]\n",
    "    print(response)\n",
    "\n",
    "print(\"It was nice talking to you, goodbye!\")"
   ]
  },
  {
   "cell_type": "code",
   "execution_count": null,
   "id": "807a8eda-06fb-4e35-90da-22a1b4f67803",
   "metadata": {},
   "outputs": [],
   "source": []
  }
 ],
 "metadata": {
  "kernelspec": {
   "display_name": "Python [conda env:base] *",
   "language": "python",
   "name": "conda-base-py"
  },
  "language_info": {
   "codemirror_mode": {
    "name": "ipython",
    "version": 3
   },
   "file_extension": ".py",
   "mimetype": "text/x-python",
   "name": "python",
   "nbconvert_exporter": "python",
   "pygments_lexer": "ipython3",
   "version": "3.12.7"
  }
 },
 "nbformat": 4,
 "nbformat_minor": 5
}
