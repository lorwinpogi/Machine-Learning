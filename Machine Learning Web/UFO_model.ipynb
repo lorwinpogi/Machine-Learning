{
 "cells": [
  {
   "cell_type": "code",
   "execution_count": 6,
   "id": "18cd37fc-ac4c-4129-a5ad-84de40842f74",
   "metadata": {},
   "outputs": [],
   "source": [
    "import pandas as pd\n",
    "from sklearn.model_selection import train_test_split\n",
    "from sklearn.preprocessing import LabelEncoder\n",
    "from sklearn.linear_model import LogisticRegression\n",
    "from sklearn.metrics import accuracy_score, classification_report\n",
    "\n",
    "# Load data\n",
    "ufos_raw = pd.read_csv('ufos.csv')  # Ensure the file is in the correct directory"
   ]
  },
  {
   "cell_type": "code",
   "execution_count": 8,
   "id": "90ae62a8-e809-48f6-acc3-ae0d2951c1de",
   "metadata": {},
   "outputs": [],
   "source": [
    "# Preprocess\n",
    "ufos = pd.DataFrame({\n",
    "    'Seconds': ufos_raw['duration (seconds)'],\n",
    "    'Country': ufos_raw['country'],\n",
    "    'Latitude': ufos_raw['latitude'],\n",
    "    'Longitude': ufos_raw['longitude']\n",
    "})"
   ]
  },
  {
   "cell_type": "code",
   "execution_count": 10,
   "id": "ebe0cebe-cd4b-4dc3-a75c-764edea734e6",
   "metadata": {},
   "outputs": [],
   "source": [
    "# Clean data\n",
    "ufos.dropna(inplace=True)\n",
    "ufos = ufos[(ufos['Seconds'] >= 1) & (ufos['Seconds'] <= 60)]"
   ]
  },
  {
   "cell_type": "code",
   "execution_count": 12,
   "id": "bfd8de90-c459-4b65-862f-76700dbde05e",
   "metadata": {},
   "outputs": [],
   "source": [
    "# Encode labels\n",
    "ufos['Country'] = LabelEncoder().fit_transform(ufos['Country'])"
   ]
  },
  {
   "cell_type": "code",
   "execution_count": 14,
   "id": "6e1861e2-20b9-4c8d-85a0-dddcb2a43db1",
   "metadata": {},
   "outputs": [],
   "source": [
    "# Feature selection and split\n",
    "Selected_features = ['Seconds', 'Latitude', 'Longitude']\n",
    "X = ufos[Selected_features]\n",
    "y = ufos['Country']\n",
    "X_train, X_test, y_train, y_test = train_test_split(X, y, test_size=0.2, random_state=0)"
   ]
  },
  {
   "cell_type": "code",
   "execution_count": 16,
   "id": "9e08e6aa-bef5-43b8-b13d-75099c5de628",
   "metadata": {},
   "outputs": [],
   "source": [
    "# Train model\n",
    "model = LogisticRegression(max_iter=1000)\n",
    "model.fit(X_train, y_train)\n",
    "predictions = model.predict(X_test)"
   ]
  },
  {
   "cell_type": "code",
   "execution_count": 17,
   "id": "576d8aac-888e-4b5f-bd01-686879d08bf0",
   "metadata": {},
   "outputs": [
    {
     "name": "stdout",
     "output_type": "stream",
     "text": [
      "              precision    recall  f1-score   support\n",
      "\n",
      "           0       1.00      1.00      1.00        41\n",
      "           1       0.85      0.47      0.60       250\n",
      "           2       1.00      1.00      1.00         8\n",
      "           3       1.00      1.00      1.00       131\n",
      "           4       0.97      1.00      0.98      4743\n",
      "\n",
      "    accuracy                           0.97      5173\n",
      "   macro avg       0.96      0.89      0.92      5173\n",
      "weighted avg       0.97      0.97      0.97      5173\n",
      "\n",
      "Predicted labels:  [4 4 4 ... 3 4 4]\n",
      "Accuracy:  0.9702300405953992\n"
     ]
    }
   ],
   "source": [
    "# Evaluation\n",
    "print(classification_report(y_test, predictions))\n",
    "print('Predicted labels: ', predictions)\n",
    "print('Accuracy: ', accuracy_score(y_test, predictions))"
   ]
  }
 ],
 "metadata": {
  "kernelspec": {
   "display_name": "Python [conda env:base] *",
   "language": "python",
   "name": "conda-base-py"
  },
  "language_info": {
   "codemirror_mode": {
    "name": "ipython",
    "version": 3
   },
   "file_extension": ".py",
   "mimetype": "text/x-python",
   "name": "python",
   "nbconvert_exporter": "python",
   "pygments_lexer": "ipython3",
   "version": "3.12.7"
  }
 },
 "nbformat": 4,
 "nbformat_minor": 5
}
