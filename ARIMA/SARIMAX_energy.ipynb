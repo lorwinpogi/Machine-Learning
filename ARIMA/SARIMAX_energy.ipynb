{
 "cells": [
  {
   "cell_type": "code",
   "execution_count": 28,
   "id": "386a0f95-8352-47e2-bdef-3764780d7d9f",
   "metadata": {},
   "outputs": [
    {
     "name": "stdout",
     "output_type": "stream",
     "text": [
      "Forecast:\n",
      "2014-12-31 21:00:00    3615.858345\n",
      "2014-12-31 22:00:00    3310.050372\n",
      "2014-12-31 23:00:00    3063.156375\n",
      "Freq: h, Name: predicted_mean, dtype: float64\n"
     ]
    }
   ],
   "source": [
    "import pandas as pd\n",
    "from statsmodels.tsa.statespace.sarimax import SARIMAX\n",
    "\n",
    "# Load data\n",
    "df = pd.read_csv(\"energy.csv\", parse_dates=[\"timestamp\"], index_col=\"timestamp\")\n",
    "\n",
    "# Ensure hourly frequency and fill missing data\n",
    "df = df.asfreq('h').ffill()\n",
    "\n",
    "# Select the target variable\n",
    "series = df[\"load\"]\n",
    "\n",
    "# Optionally reduce data size for faster testing\n",
    "series = series[-200:]  # Last 200 data points\n",
    "\n",
    "# Define forecast horizon and split\n",
    "HORIZON = 3\n",
    "train = series[:-HORIZON]\n",
    "test = series[-HORIZON:]\n",
    "\n",
    "# Configure and fit SARIMAX model\n",
    "order = (1, 1, 1)\n",
    "seasonal_order = (0, 1, 1, 24)\n",
    "\n",
    "model = SARIMAX(train, order=order, seasonal_order=seasonal_order)\n",
    "results = model.fit(disp=False)  # disp=False to reduce console spam\n",
    "\n",
    "# Forecast\n",
    "forecast = results.forecast(steps=HORIZON)\n",
    "\n",
    "# Output results\n",
    "print(\"Forecast:\")\n",
    "print(forecast)"
   ]
  },
  {
   "cell_type": "code",
   "execution_count": null,
   "id": "690b3d8f-afaf-446e-b745-a0b5bcb823e1",
   "metadata": {},
   "outputs": [],
   "source": []
  }
 ],
 "metadata": {
  "kernelspec": {
   "display_name": "Python [conda env:base] *",
   "language": "python",
   "name": "conda-base-py"
  },
  "language_info": {
   "codemirror_mode": {
    "name": "ipython",
    "version": 3
   },
   "file_extension": ".py",
   "mimetype": "text/x-python",
   "name": "python",
   "nbconvert_exporter": "python",
   "pygments_lexer": "ipython3",
   "version": "3.12.7"
  }
 },
 "nbformat": 4,
 "nbformat_minor": 5
}
