{
 "cells": [
  {
   "cell_type": "code",
   "execution_count": 13,
   "id": "ce594144-25af-4941-b778-a930496848d4",
   "metadata": {},
   "outputs": [],
   "source": [
    "import pandas as pd\n",
    "\n",
    "# Make sure this filename is correct\n",
    "full_pumpkins = pd.read_csv('US-pumpkins.csv')\n",
    "\n",
    "columns_to_select = ['City Name','Package','Variety', 'Origin','Item Size', 'Color']\n",
    "pumpkins = full_pumpkins.loc[:, columns_to_select]\n",
    "pumpkins.dropna(inplace=True)"
   ]
  },
  {
   "cell_type": "code",
   "execution_count": 15,
   "id": "457fb784-d546-4f0b-8660-15cb7d2bff49",
   "metadata": {},
   "outputs": [
    {
     "name": "stdout",
     "output_type": "stream",
     "text": [
      "<class 'pandas.core.frame.DataFrame'>\n",
      "Index: 991 entries, 2 to 1698\n",
      "Data columns (total 6 columns):\n",
      " #   Column     Non-Null Count  Dtype \n",
      "---  ------     --------------  ----- \n",
      " 0   City Name  991 non-null    object\n",
      " 1   Package    991 non-null    object\n",
      " 2   Variety    991 non-null    object\n",
      " 3   Origin     991 non-null    object\n",
      " 4   Item Size  991 non-null    object\n",
      " 5   Color      991 non-null    object\n",
      "dtypes: object(6)\n",
      "memory usage: 54.2+ KB\n"
     ]
    }
   ],
   "source": [
    "pumpkins.info()"
   ]
  },
  {
   "cell_type": "code",
   "execution_count": null,
   "id": "e6136b95-d973-435d-b43d-ead0a323b4ad",
   "metadata": {},
   "outputs": [],
   "source": []
  }
 ],
 "metadata": {
  "kernelspec": {
   "display_name": "Python [conda env:base] *",
   "language": "python",
   "name": "conda-base-py"
  },
  "language_info": {
   "codemirror_mode": {
    "name": "ipython",
    "version": 3
   },
   "file_extension": ".py",
   "mimetype": "text/x-python",
   "name": "python",
   "nbconvert_exporter": "python",
   "pygments_lexer": "ipython3",
   "version": "3.12.7"
  }
 },
 "nbformat": 4,
 "nbformat_minor": 5
}
