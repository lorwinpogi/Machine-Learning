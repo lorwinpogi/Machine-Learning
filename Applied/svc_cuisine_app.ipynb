{
 "cells": [
  {
   "cell_type": "code",
   "execution_count": 4,
   "id": "096fdfe0-b970-4b13-8cfd-3517226301ee",
   "metadata": {},
   "outputs": [
    {
     "data": {
      "application/vnd.jupyter.widget-view+json": {
       "model_id": "5390d2094446455b9c9e4b60c6229733",
       "version_major": 2,
       "version_minor": 0
      },
      "text/plain": [
       "VBox(children=(FloatText(value=0.0, description='almond'), FloatText(value=0.0, description='angelica'), Float…"
      ]
     },
     "metadata": {},
     "output_type": "display_data"
    }
   ],
   "source": [
    "# This runs in viola for web application\n",
    "import pandas as pd\n",
    "from sklearn.model_selection import train_test_split\n",
    "from sklearn.svm import SVC\n",
    "from sklearn.metrics import classification_report\n",
    "from sklearn.preprocessing import StandardScaler\n",
    "from skl2onnx import convert_sklearn\n",
    "from skl2onnx.common.data_types import FloatTensorType\n",
    "import ipywidgets as widgets\n",
    "from IPython.display import display\n",
    "\n",
    "# Load data\n",
    "data = pd.read_csv('cuisines.csv')\n",
    "X = data.iloc[:, 2:]\n",
    "y = data['cuisine']\n",
    "\n",
    "# Train/test split\n",
    "X_train, X_test, y_train, y_test = train_test_split(X, y, test_size=0.3, random_state=0)\n",
    "\n",
    "# Optional: scale for better performance\n",
    "scaler = StandardScaler()\n",
    "X_train_scaled = scaler.fit_transform(X_train)\n",
    "X_test_scaled = scaler.transform(X_test)\n",
    "\n",
    "# Train SVC\n",
    "model = SVC(kernel='linear', C=10, probability=True, random_state=0)\n",
    "model.fit(X_train_scaled, y_train)\n",
    "\n",
    "# Create ONNX model\n",
    "initial_type = [('input', FloatTensorType([None, X.shape[1]]))]\n",
    "onnx_model = convert_sklearn(model, initial_types=initial_type)\n",
    "with open(\"svc_cuisine_model.onnx\", \"wb\") as f:\n",
    "    f.write(onnx_model.SerializeToString())\n",
    "\n",
    "\n",
    "# Widgets for Interactive App\n",
    "input_widgets = []\n",
    "feature_names = X.columns\n",
    "\n",
    "for feature in feature_names:\n",
    "    input_widgets.append(widgets.FloatText(description=feature, value=0.0))\n",
    "\n",
    "predict_button = widgets.Button(description=\"Predict Cuisine\")\n",
    "output = widgets.Output()\n",
    "\n",
    "def on_predict_clicked(b):\n",
    "    input_data = pd.DataFrame([[w.value for w in input_widgets]], columns=feature_names)\n",
    "    input_scaled = scaler.transform(input_data)\n",
    "    prediction = model.predict(input_scaled)[0]\n",
    "    probas = model.predict_proba(input_scaled)\n",
    "\n",
    "    with output:\n",
    "        output.clear_output()\n",
    "        print(f\"✅ Predicted Cuisine: {prediction}\")\n",
    "        print(\"\\n🔢 Probabilities:\")\n",
    "        for label, prob in zip(model.classes_, probas[0]):\n",
    "            print(f\"{label}: {prob:.4f}\")\n",
    "\n",
    "predict_button.on_click(on_predict_clicked)\n",
    "\n",
    "# Display app\n",
    "display(widgets.VBox(input_widgets + [predict_button, output]))"
   ]
  }
 ],
 "metadata": {
  "kernelspec": {
   "display_name": "Python [conda env:base] *",
   "language": "python",
   "name": "conda-base-py"
  },
  "language_info": {
   "codemirror_mode": {
    "name": "ipython",
    "version": 3
   },
   "file_extension": ".py",
   "mimetype": "text/x-python",
   "name": "python",
   "nbconvert_exporter": "python",
   "pygments_lexer": "ipython3",
   "version": "3.12.7"
  }
 },
 "nbformat": 4,
 "nbformat_minor": 5
}
