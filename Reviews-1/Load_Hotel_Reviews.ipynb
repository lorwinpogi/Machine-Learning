{
 "cells": [
  {
   "cell_type": "code",
   "execution_count": 4,
   "id": "54b8e79d-2c5d-4286-ac9d-0afbf5e1fe53",
   "metadata": {},
   "outputs": [
    {
     "name": "stdout",
     "output_type": "stream",
     "text": [
      "Loading data file now, this could take a while depending on file size\n",
      "Loading took 3.17 seconds\n"
     ]
    }
   ],
   "source": [
    "import pandas as pd\n",
    "import time\n",
    "import os\n",
    "\n",
    "print(\"Loading data file now, this could take a while depending on file size\")\n",
    "\n",
    "start = time.time()\n",
    "\n",
    "# Update the path if your file is in a subfolder like 'data/'\n",
    "file_path = 'Hotel_Reviews.csv'  # Adjust path here if needed\n",
    "\n",
    "# Check if the file exists before loading\n",
    "if not os.path.isfile(file_path):\n",
    "    raise FileNotFoundError(f\"File not found: {file_path}\")\n",
    "\n",
    "df = pd.read_csv(file_path)\n",
    "\n",
    "end = time.time()\n",
    "print(\"Loading took \" + str(round(end - start, 2)) + \" seconds\")"
   ]
  },
  {
   "cell_type": "code",
   "execution_count": null,
   "id": "645f81a2-ba71-4b31-9755-b7eefea4c5fc",
   "metadata": {},
   "outputs": [],
   "source": []
  }
 ],
 "metadata": {
  "kernelspec": {
   "display_name": "Python [conda env:base] *",
   "language": "python",
   "name": "conda-base-py"
  },
  "language_info": {
   "codemirror_mode": {
    "name": "ipython",
    "version": 3
   },
   "file_extension": ".py",
   "mimetype": "text/x-python",
   "name": "python",
   "nbconvert_exporter": "python",
   "pygments_lexer": "ipython3",
   "version": "3.12.7"
  }
 },
 "nbformat": 4,
 "nbformat_minor": 5
}
