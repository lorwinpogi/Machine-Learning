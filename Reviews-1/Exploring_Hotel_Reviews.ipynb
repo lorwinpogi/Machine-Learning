{
 "cells": [
  {
   "cell_type": "code",
   "execution_count": 9,
   "id": "ca595492-cfb1-4a3d-879a-7194691d764a",
   "metadata": {},
   "outputs": [
    {
     "name": "stdout",
     "output_type": "stream",
     "text": [
      "Data loaded in 3.22 seconds\n"
     ]
    }
   ],
   "source": [
    "import pandas as pd\n",
    "import time\n",
    "\n",
    "start = time.time()\n",
    "df = pd.read_csv('Hotel_Reviews.csv')  \n",
    "end = time.time()\n",
    "print(f\"Data loaded in {round(end - start, 2)} seconds\")"
   ]
  },
  {
   "cell_type": "code",
   "execution_count": 10,
   "id": "3a8af835-0f5c-4d31-ad50-522418c6e68f",
   "metadata": {},
   "outputs": [
    {
     "name": "stdout",
     "output_type": "stream",
     "text": [
      "DataFrame shape: (515738, 17)\n",
      "\n",
      "Top 10 reviewer nationalities:\n",
      "Reviewer_Nationality\n",
      "United Kingdom               245246\n",
      "United States of America      35437\n",
      "Australia                     21686\n",
      "Ireland                       14827\n",
      "United Arab Emirates          10235\n",
      "Saudi Arabia                   8951\n",
      "Netherlands                    8772\n",
      "Switzerland                    8678\n",
      "Germany                        7941\n",
      "Canada                         7894\n",
      "Name: count, dtype: int64\n",
      "\n",
      "Number of distinct nationalities: 227\n",
      "First 10 nationalities:\n",
      "[' Russia ' ' Ireland ' ' Australia ' ' United Kingdom ' ' New Zealand '\n",
      " ' Poland ' ' Belgium ' ' Norway ' ' France ' ' Italy ']\n"
     ]
    }
   ],
   "source": [
    "print(f\"DataFrame shape: {df.shape}\")  # Rows x Columns\n",
    "\n",
    "# Frequency count of reviewer nationalities\n",
    "nationality_counts = df['Reviewer_Nationality'].value_counts()\n",
    "print(f\"\\nTop 10 reviewer nationalities:\\n{nationality_counts.head(10)}\")\n",
    "\n",
    "# Distinct nationalities\n",
    "print(f\"\\nNumber of distinct nationalities: {df['Reviewer_Nationality'].nunique()}\")\n",
    "print(f\"First 10 nationalities:\\n{df['Reviewer_Nationality'].unique()[:10]}\")"
   ]
  },
  {
   "cell_type": "code",
   "execution_count": 11,
   "id": "c3b8c4fd-76e0-4ac8-b9ff-c1f5c5021be0",
   "metadata": {},
   "outputs": [
    {
     "name": "stdout",
     "output_type": "stream",
     "text": [
      "Most common nationality:  United Kingdom  (245246 reviews)\n",
      "\n",
      "Top 10 nationalities and review counts:\n",
      "Reviewer_Nationality\n",
      "United Kingdom               245246\n",
      "United States of America      35437\n",
      "Australia                     21686\n",
      "Ireland                       14827\n",
      "United Arab Emirates          10235\n",
      "Saudi Arabia                   8951\n",
      "Netherlands                    8772\n",
      "Switzerland                    8678\n",
      "Germany                        7941\n",
      "Canada                         7894\n",
      "Name: count, dtype: int64\n"
     ]
    }
   ],
   "source": [
    "most_common_nationality = nationality_counts.idxmax()\n",
    "most_common_nationality_count = nationality_counts.max()\n",
    "print(f\"Most common nationality: {most_common_nationality} ({most_common_nationality_count} reviews)\")\n",
    "\n",
    "print(\"\\nTop 10 nationalities and review counts:\")\n",
    "print(nationality_counts.head(10))\n"
   ]
  },
  {
   "cell_type": "code",
   "execution_count": 12,
   "id": "810de431-5795-4504-9470-11be797ddf3e",
   "metadata": {},
   "outputs": [
    {
     "name": "stdout",
     "output_type": "stream",
     "text": [
      "Most reviewed hotel for each of the top 10 nationalities:\n",
      " United Kingdom : Britannia International Hotel Canary Wharf\n",
      " United States of America : Hotel Esther a\n",
      " Australia : Park Plaza Westminster Bridge London\n",
      " Ireland : Copthorne Tara Hotel London Kensington\n",
      " United Arab Emirates : Millennium Hotel London Knightsbridge\n",
      " Saudi Arabia : The Cumberland A Guoman Hotel\n",
      " Netherlands : Jaz Amsterdam\n",
      " Switzerland : Hotel Da Vinci\n",
      " Germany : Hotel Da Vinci\n",
      " Canada : St James Court A Taj Hotel London\n"
     ]
    }
   ],
   "source": [
    "print(\"Most reviewed hotel for each of the top 10 nationalities:\")\n",
    "for nationality in nationality_counts.head(10).index:\n",
    "    top_hotel = df[df['Reviewer_Nationality'] == nationality]['Hotel_Name'].value_counts().idxmax()\n",
    "    print(f\"{nationality}: {top_hotel}\")\n"
   ]
  },
  {
   "cell_type": "code",
   "execution_count": 13,
   "id": "68c94208-9ac8-4d28-9900-3dd01e0cdf76",
   "metadata": {},
   "outputs": [
    {
     "name": "stdout",
     "output_type": "stream",
     "text": [
      "Top 10 hotels by number of reviews:\n",
      "Hotel_Name\n",
      "Britannia International Hotel Canary Wharf           4789\n",
      "Strand Palace Hotel                                  4256\n",
      "Park Plaza Westminster Bridge London                 4169\n",
      "Copthorne Tara Hotel London Kensington               3578\n",
      "DoubleTree by Hilton Hotel London Tower of London    3212\n",
      "Grand Royale London Hyde Park                        2958\n",
      "Holiday Inn London Kensington                        2768\n",
      "Hilton London Metropole                              2628\n",
      "Millennium Gloucester Hotel London                   2565\n",
      "Intercontinental London The O2                       2551\n",
      "Name: count, dtype: int64\n"
     ]
    }
   ],
   "source": [
    "hotel_review_counts = df['Hotel_Name'].value_counts()\n",
    "print(\"Top 10 hotels by number of reviews:\")\n",
    "print(hotel_review_counts.head(10))\n"
   ]
  },
  {
   "cell_type": "code",
   "execution_count": 14,
   "id": "c3d0f28a-dd74-4fbd-a1eb-8a17cfc9b7d6",
   "metadata": {},
   "outputs": [],
   "source": [
    "# Group by hotel and calculate mean of Reviewer_Score\n",
    "calc_avg_scores = df.groupby('Hotel_Name')['Reviewer_Score'].mean().round(2)\n",
    "df['Calc_Average_Score'] = df['Hotel_Name'].map(calc_avg_scores)\n"
   ]
  },
  {
   "cell_type": "code",
   "execution_count": 21,
   "id": "65c06d4c-155c-4d8a-b0c9-d59e5a626bca",
   "metadata": {},
   "outputs": [
    {
     "name": "stdout",
     "output_type": "stream",
     "text": [
      "Rows where rounded Average_Score equals calculated: 193754\n"
     ]
    }
   ],
   "source": [
    "# Count rows where rounded Average_Score == rounded Calc_Average_Score\n",
    "matched = df[df['Average_Score'].round(1) == df['Calc_Average_Score'].round(1)]\n",
    "print(f\"Rows where rounded Average_Score equals calculated: {len(matched)}\")\n"
   ]
  },
  {
   "cell_type": "code",
   "execution_count": 23,
   "id": "d0e5f5a0-52aa-43c5-ab3b-8c8040b3fada",
   "metadata": {},
   "outputs": [
    {
     "name": "stdout",
     "output_type": "stream",
     "text": [
      "Total mismatches: 321984\n",
      "First 10 mismatches:\n"
     ]
    },
    {
     "data": {
      "text/html": [
       "<div>\n",
       "<style scoped>\n",
       "    .dataframe tbody tr th:only-of-type {\n",
       "        vertical-align: middle;\n",
       "    }\n",
       "\n",
       "    .dataframe tbody tr th {\n",
       "        vertical-align: top;\n",
       "    }\n",
       "\n",
       "    .dataframe thead th {\n",
       "        text-align: right;\n",
       "    }\n",
       "</style>\n",
       "<table border=\"1\" class=\"dataframe\">\n",
       "  <thead>\n",
       "    <tr style=\"text-align: right;\">\n",
       "      <th></th>\n",
       "      <th>Hotel_Name</th>\n",
       "      <th>Average_Score</th>\n",
       "      <th>Calc_Average_Score</th>\n",
       "    </tr>\n",
       "  </thead>\n",
       "  <tbody>\n",
       "    <tr>\n",
       "      <th>0</th>\n",
       "      <td>Hotel Arena</td>\n",
       "      <td>7.7</td>\n",
       "      <td>7.84</td>\n",
       "    </tr>\n",
       "    <tr>\n",
       "      <th>1</th>\n",
       "      <td>Hotel Arena</td>\n",
       "      <td>7.7</td>\n",
       "      <td>7.84</td>\n",
       "    </tr>\n",
       "    <tr>\n",
       "      <th>2</th>\n",
       "      <td>Hotel Arena</td>\n",
       "      <td>7.7</td>\n",
       "      <td>7.84</td>\n",
       "    </tr>\n",
       "    <tr>\n",
       "      <th>3</th>\n",
       "      <td>Hotel Arena</td>\n",
       "      <td>7.7</td>\n",
       "      <td>7.84</td>\n",
       "    </tr>\n",
       "    <tr>\n",
       "      <th>4</th>\n",
       "      <td>Hotel Arena</td>\n",
       "      <td>7.7</td>\n",
       "      <td>7.84</td>\n",
       "    </tr>\n",
       "    <tr>\n",
       "      <th>5</th>\n",
       "      <td>Hotel Arena</td>\n",
       "      <td>7.7</td>\n",
       "      <td>7.84</td>\n",
       "    </tr>\n",
       "    <tr>\n",
       "      <th>6</th>\n",
       "      <td>Hotel Arena</td>\n",
       "      <td>7.7</td>\n",
       "      <td>7.84</td>\n",
       "    </tr>\n",
       "    <tr>\n",
       "      <th>7</th>\n",
       "      <td>Hotel Arena</td>\n",
       "      <td>7.7</td>\n",
       "      <td>7.84</td>\n",
       "    </tr>\n",
       "    <tr>\n",
       "      <th>8</th>\n",
       "      <td>Hotel Arena</td>\n",
       "      <td>7.7</td>\n",
       "      <td>7.84</td>\n",
       "    </tr>\n",
       "    <tr>\n",
       "      <th>9</th>\n",
       "      <td>Hotel Arena</td>\n",
       "      <td>7.7</td>\n",
       "      <td>7.84</td>\n",
       "    </tr>\n",
       "  </tbody>\n",
       "</table>\n",
       "</div>"
      ],
      "text/plain": [
       "    Hotel_Name  Average_Score  Calc_Average_Score\n",
       "0  Hotel Arena            7.7                7.84\n",
       "1  Hotel Arena            7.7                7.84\n",
       "2  Hotel Arena            7.7                7.84\n",
       "3  Hotel Arena            7.7                7.84\n",
       "4  Hotel Arena            7.7                7.84\n",
       "5  Hotel Arena            7.7                7.84\n",
       "6  Hotel Arena            7.7                7.84\n",
       "7  Hotel Arena            7.7                7.84\n",
       "8  Hotel Arena            7.7                7.84\n",
       "9  Hotel Arena            7.7                7.84"
      ]
     },
     "execution_count": 23,
     "metadata": {},
     "output_type": "execute_result"
    }
   ],
   "source": [
    "mismatches = df[df['Average_Score'].round(1) != df['Calc_Average_Score'].round(1)]\n",
    "print(f\"Total mismatches: {len(mismatches)}\")\n",
    "print(\"First 10 mismatches:\")\n",
    "mismatches[['Hotel_Name', 'Average_Score', 'Calc_Average_Score']].head(10)"
   ]
  },
  {
   "cell_type": "code",
   "execution_count": 25,
   "id": "fc066ff8-2f3c-4e69-8a47-b5027640bfe6",
   "metadata": {},
   "outputs": [
    {
     "name": "stdout",
     "output_type": "stream",
     "text": [
      "Rows with 'No Negative': 127890\n",
      "Rows with 'No Positive': 35946\n",
      "Rows with both: 127\n"
     ]
    }
   ],
   "source": [
    "no_neg = (df['Negative_Review'] == \"No Negative\").sum()\n",
    "no_pos = (df['Positive_Review'] == \"No Positive\").sum()\n",
    "both = ((df['Negative_Review'] == \"No Negative\") & (df['Positive_Review'] == \"No Positive\")).sum()\n",
    "\n",
    "print(f\"Rows with 'No Negative': {no_neg}\")\n",
    "print(f\"Rows with 'No Positive': {no_pos}\")\n",
    "print(f\"Rows with both: {both}\")"
   ]
  },
  {
   "cell_type": "code",
   "execution_count": null,
   "id": "50b89a36-410f-4065-b0f0-5ed3e559dc90",
   "metadata": {},
   "outputs": [],
   "source": []
  }
 ],
 "metadata": {
  "kernelspec": {
   "display_name": "Python [conda env:base] *",
   "language": "python",
   "name": "conda-base-py"
  },
  "language_info": {
   "codemirror_mode": {
    "name": "ipython",
    "version": 3
   },
   "file_extension": ".py",
   "mimetype": "text/x-python",
   "name": "python",
   "nbconvert_exporter": "python",
   "pygments_lexer": "ipython3",
   "version": "3.12.7"
  }
 },
 "nbformat": 4,
 "nbformat_minor": 5
}
