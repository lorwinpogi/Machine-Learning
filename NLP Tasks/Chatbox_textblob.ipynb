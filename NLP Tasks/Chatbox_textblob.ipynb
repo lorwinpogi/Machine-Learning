{
 "cells": [
  {
   "cell_type": "code",
   "execution_count": 14,
   "id": "b9604d1b-3953-4553-ab79-5d0850ace8c5",
   "metadata": {},
   "outputs": [
    {
     "name": "stdout",
     "output_type": "stream",
     "text": [
      "Hello, I am Marvin, the friendly robot.\n",
      "You can end this conversation at any time by typing 'bye'\n",
      "After typing each answer, press 'enter'\n",
      "How are you today?\n"
     ]
    },
    {
     "name": "stdin",
     "output_type": "stream",
     "text": [
      ">  bye\n"
     ]
    },
    {
     "name": "stdout",
     "output_type": "stream",
     "text": [
      "It was nice talking to you, goodbye!\n"
     ]
    }
   ],
   "source": [
    "# Install before running the code: just copy paste it\n",
    "# !pip install textblob\n",
    "#!pip install -U nltk\n",
    "\n",
    "# import nltk\n",
    "# nltk.download('punkt')\n",
    "# nltk.download('averaged_perceptron_tagger')\n",
    "from textblob import TextBlob\n",
    "\n",
    "print(\"Hello, I am Marvin, the friendly robot.\")\n",
    "print(\"You can end this conversation at any time by typing 'bye'\")\n",
    "print(\"After typing each answer, press 'enter'\")\n",
    "print(\"How are you today?\")\n",
    "\n",
    "while True:\n",
    "    user_input = input(\"> \")\n",
    "    \n",
    "    if user_input.strip().lower() == \"bye\":\n",
    "        print(\"It was nice talking to you, goodbye!\")\n",
    "        break\n",
    "\n",
    "    blob = TextBlob(user_input)\n",
    "    sentiment = blob.sentiment.polarity\n",
    "\n",
    "    # Get last noun from POS tag\n",
    "    nouns = [word for word, pos in blob.tags if pos.startswith('NN')]\n",
    "    last_noun = nouns[-1] if nouns else \"that\"\n",
    "\n",
    "    if sentiment > 0:\n",
    "        response = \"Well, that sounds positive.\"\n",
    "    elif sentiment < 0:\n",
    "        response = \"Hmm, that's not great.\"\n",
    "    else:\n",
    "        response = \"Interesting.\"\n",
    "\n",
    "    print(f\"{response} Can you tell me more about {last_noun}?\")\n",
    "\n",
    "\n",
    "# for output purposes you can just copy the words after >\n",
    "\"\"\"\n",
    "Hello, I am Marvin, the friendly robot.\n",
    "You can end this conversation at any time by typing 'bye'\n",
    "After typing each answer, press 'enter'\n",
    "How are you today?\n",
    "> I am ok\n",
    "Well, that sounds positive. Can you tell me more?\n",
    "> I went for a walk and saw a lovely cat\n",
    "Well, that sounds positive. Can you tell me more about lovely cats?\n",
    "> cats are the best. But I also have a cool dog\n",
    "Wow, that sounds great. Can you tell me more about cool dogs?\n",
    "> I have an old hounddog but he is sick\n",
    "Hmm, that's not great. Can you tell me more about old hounddogs?\n",
    "> bye\n",
    "It was nice talking to you, goodbye!\n",
    "\"\"\"\n",
    "\n"
   ]
  },
  {
   "cell_type": "code",
   "execution_count": null,
   "id": "965a3bfe-40b2-46a5-b8e6-ef20179a4473",
   "metadata": {},
   "outputs": [],
   "source": []
  }
 ],
 "metadata": {
  "kernelspec": {
   "display_name": "Python [conda env:base] *",
   "language": "python",
   "name": "conda-base-py"
  },
  "language_info": {
   "codemirror_mode": {
    "name": "ipython",
    "version": 3
   },
   "file_extension": ".py",
   "mimetype": "text/x-python",
   "name": "python",
   "nbconvert_exporter": "python",
   "pygments_lexer": "ipython3",
   "version": "3.12.7"
  }
 },
 "nbformat": 4,
 "nbformat_minor": 5
}
