{
 "cells": [
  {
   "cell_type": "code",
   "execution_count": 11,
   "id": "c70748a9-40af-4327-9cd7-80b20624a2ac",
   "metadata": {},
   "outputs": [
    {
     "name": "stdout",
     "output_type": "stream",
     "text": [
      "Saving results to Hotel_Reviews_Filtered.csv\n"
     ]
    }
   ],
   "source": [
    "import pandas as pd\n",
    "\n",
    "# Load the dataset\n",
    "df = pd.read_csv(\"Hotel_Reviews.csv\")\n",
    "\n",
    "# Drop lat and lng\n",
    "df.drop([\"lat\", \"lng\"], axis=1, inplace=True)\n",
    "\n",
    "# Replace Hotel_Address values with simplified format\n",
    "def replace_address(row):\n",
    "    if \"Netherlands\" in row[\"Hotel_Address\"]:\n",
    "        return \"Amsterdam, Netherlands\"\n",
    "    elif \"Barcelona\" in row[\"Hotel_Address\"]:\n",
    "        return \"Barcelona, Spain\"\n",
    "    elif \"United Kingdom\" in row[\"Hotel_Address\"]:\n",
    "        return \"London, United Kingdom\"\n",
    "    elif \"Milan\" in row[\"Hotel_Address\"]:        \n",
    "        return \"Milan, Italy\"\n",
    "    elif \"France\" in row[\"Hotel_Address\"]:\n",
    "        return \"Paris, France\"\n",
    "    elif \"Vienna\" in row[\"Hotel_Address\"]:\n",
    "        return \"Vienna, Austria\" \n",
    "\n",
    "df[\"Hotel_Address\"] = df.apply(replace_address, axis=1)\n",
    "\n",
    "# Drop Additional_Number_of_Scoring\n",
    "df.drop([\"Additional_Number_of_Scoring\"], axis=1, inplace=True)\n",
    "\n",
    "# Replace Total_Number_of_Reviews and Average_Score with calculated values\n",
    "df[\"Total_Number_of_Reviews\"] = df.groupby('Hotel_Name')[\"Hotel_Name\"].transform('count')\n",
    "df[\"Average_Score\"] = round(df.groupby('Hotel_Name')[\"Reviewer_Score\"].transform('mean'), 1)\n",
    "\n",
    "# Clean the Tags column\n",
    "df.Tags = df.Tags.str.strip(\"[']\")\n",
    "df.Tags = df.Tags.str.replace(\" ', '\", \",\", regex=False)\n",
    "\n",
    "# Create tag-based binary features\n",
    "df[\"Leisure_trip\"] = df.Tags.apply(lambda tag: 1 if \"Leisure trip\" in tag else 0)\n",
    "df[\"Couple\"] = df.Tags.apply(lambda tag: 1 if \"Couple\" in tag else 0)\n",
    "df[\"Solo_traveler\"] = df.Tags.apply(lambda tag: 1 if \"Solo traveler\" in tag else 0)\n",
    "df[\"Business_trip\"] = df.Tags.apply(lambda tag: 1 if \"Business trip\" in tag else 0)\n",
    "df[\"Group\"] = df.Tags.apply(lambda tag: 1 if \"Group\" in tag or \"Travelers with friends\" in tag else 0)\n",
    "df[\"Family_with_young_children\"] = df.Tags.apply(lambda tag: 1 if \"Family with young children\" in tag else 0)\n",
    "df[\"Family_with_older_children\"] = df.Tags.apply(lambda tag: 1 if \"Family with older children\" in tag else 0)\n",
    "df[\"With_a_pet\"] = df.Tags.apply(lambda tag: 1 if \"With a pet\" in tag else 0)\n",
    "\n",
    "# Drop other unwanted columns\n",
    "df.drop([\n",
    "    \"Review_Total_Negative_Word_Counts\",\n",
    "    \"Review_Total_Positive_Word_Counts\",\n",
    "    \"days_since_review\",\n",
    "    \"Total_Number_of_Reviews_Reviewer_Has_Given\"\n",
    "], axis=1, inplace=True)\n",
    "\n",
    "# Save the cleaned data to the same folder as this notebook\n",
    "print(\"Saving results to Hotel_Reviews_Filtered.csv\")\n",
    "df.to_csv(\"Hotel_Reviews_Filtered.csv\", index=False)"
   ]
  },
  {
   "cell_type": "code",
   "execution_count": null,
   "id": "9f5da960-c769-400b-90bc-e0e712c31712",
   "metadata": {},
   "outputs": [],
   "source": []
  }
 ],
 "metadata": {
  "kernelspec": {
   "display_name": "Python [conda env:base] *",
   "language": "python",
   "name": "conda-base-py"
  },
  "language_info": {
   "codemirror_mode": {
    "name": "ipython",
    "version": 3
   },
   "file_extension": ".py",
   "mimetype": "text/x-python",
   "name": "python",
   "nbconvert_exporter": "python",
   "pygments_lexer": "ipython3",
   "version": "3.12.7"
  }
 },
 "nbformat": 4,
 "nbformat_minor": 5
}
