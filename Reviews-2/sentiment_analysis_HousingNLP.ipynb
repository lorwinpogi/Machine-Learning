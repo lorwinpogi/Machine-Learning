{
 "cells": [
  {
   "cell_type": "code",
   "execution_count": 27,
   "id": "6dd8a96f-9bf1-4488-98c1-ecc1b49b7e40",
   "metadata": {},
   "outputs": [
    {
     "name": "stderr",
     "output_type": "stream",
     "text": [
      "[nltk_data] Downloading package stopwords to\n",
      "[nltk_data]     C:\\Users\\Lacuesta\\AppData\\Roaming\\nltk_data...\n",
      "[nltk_data]   Package stopwords is already up-to-date!\n",
      "[nltk_data] Downloading package vader_lexicon to\n",
      "[nltk_data]     C:\\Users\\Lacuesta\\AppData\\Roaming\\nltk_data...\n",
      "[nltk_data]   Package vader_lexicon is already up-to-date!\n"
     ]
    },
    {
     "name": "stdout",
     "output_type": "stream",
     "text": [
      "Loading CSV file...\n",
      "Removing stop words...\n",
      "Stop word removal completed in 4.69 seconds.\n",
      "Calculating sentiment columns for both positive and negative reviews...\n",
      "Sentiment calculation completed in 145.38 seconds.\n",
      "                                          Negative_Review  Negative_Sentiment\n",
      "186584  bad experience memories hotel first night arri...             -0.9910\n",
      "307286  staff bad experience even booking January arri...             -0.9889\n",
      "129503  First charged twice room booked booking second...             -0.9886\n",
      "201293  usually traveling Paris 2 3 times year busines...             -0.9869\n",
      "172207  1 rooms dirty dusty 2 toilet drain stank badly...             -0.9869\n",
      "                                          Positive_Review  Positive_Sentiment\n",
      "137893  Bathroom Shower going stay twice hotel 2 night...             -0.9802\n",
      "5839    completely disappointed mad since reception st...             -0.9780\n",
      "64158   get everything extra internet parking breakfas...             -0.9751\n",
      "489137  rude manager abusive staff reception Dirty unc...             -0.9681\n",
      "124178  didnt like anythig Room small Asked upgrade de...             -0.9644\n",
      "Saving results to Hotel_Reviews_NLP.csv...\n",
      "Done.\n"
     ]
    }
   ],
   "source": [
    "import time\n",
    "import pandas as pd\n",
    "import nltk\n",
    "from nltk.corpus import stopwords\n",
    "from nltk.sentiment.vader import SentimentIntensityAnalyzer\n",
    "\n",
    "# Download necessary NLTK resources\n",
    "nltk.download('stopwords')\n",
    "nltk.download('vader_lexicon')\n",
    "\n",
    "# Initialize VADER sentiment analyzer\n",
    "vader_sentiment = SentimentIntensityAnalyzer()\n",
    "\n",
    "# Define sentiment calculation function\n",
    "def calc_sentiment(review):    \n",
    "    if review == \"No Negative\" or review == \"No Positive\":\n",
    "        return 0\n",
    "    return vader_sentiment.polarity_scores(review)[\"compound\"]   \n",
    "\n",
    "# Load the hotel reviews CSV (same directory)\n",
    "print(\"Loading CSV file...\")\n",
    "df = pd.read_csv(\"Hotel_Reviews_Filtered.csv\")\n",
    "\n",
    "# Remove stop words efficiently\n",
    "print(\"Removing stop words...\")\n",
    "start = time.time()\n",
    "cache = set(stopwords.words(\"english\"))\n",
    "\n",
    "def remove_stopwords(review):\n",
    "    return \" \".join([word for word in str(review).split() if word.lower() not in cache])\n",
    "\n",
    "df[\"Negative_Review\"] = df[\"Negative_Review\"].apply(remove_stopwords)   \n",
    "df[\"Positive_Review\"] = df[\"Positive_Review\"].apply(remove_stopwords)\n",
    "\n",
    "print(f\"Stop word removal completed in {round(time.time() - start, 2)} seconds.\")\n",
    "\n",
    "# Calculate sentiment for both positive and negative reviews\n",
    "print(\"Calculating sentiment columns for both positive and negative reviews...\")\n",
    "start = time.time()\n",
    "df[\"Negative_Sentiment\"] = df[\"Negative_Review\"].apply(calc_sentiment)\n",
    "df[\"Positive_Sentiment\"] = df[\"Positive_Review\"].apply(calc_sentiment)\n",
    "print(f\"Sentiment calculation completed in {round(time.time() - start, 2)} seconds.\")\n",
    "\n",
    "# Optional: Sort and preview\n",
    "df = df.sort_values(by=\"Negative_Sentiment\", ascending=True)\n",
    "print(df[[\"Negative_Review\", \"Negative_Sentiment\"]].head())\n",
    "\n",
    "df = df.sort_values(by=\"Positive_Sentiment\", ascending=True)\n",
    "print(df[[\"Positive_Review\", \"Positive_Sentiment\"]].head())\n",
    "\n",
    "# Reorder columns for readability\n",
    "columns_order = [\n",
    "    \"Hotel_Name\", \"Hotel_Address\", \"Total_Number_of_Reviews\", \"Average_Score\",\n",
    "    \"Reviewer_Score\", \"Negative_Sentiment\", \"Positive_Sentiment\",\n",
    "    \"Reviewer_Nationality\", \"Leisure_trip\", \"Couple\", \"Solo_traveler\",\n",
    "    \"Business_trip\", \"Group\", \"Family_with_young_children\",\n",
    "    \"Family_with_older_children\", \"With_a_pet\", \"Negative_Review\", \"Positive_Review\"\n",
    "]\n",
    "df = df.reindex(columns=columns_order)\n",
    "\n",
    "# Save the updated DataFrame to CSV in same directory\n",
    "print(\"Saving results to Hotel_Reviews_NLP.csv...\")\n",
    "df.to_csv(\"Hotel_Reviews_NLP.csv\", index=False)\n",
    "print(\"Done.\")"
   ]
  },
  {
   "cell_type": "code",
   "execution_count": null,
   "id": "04331293-fc64-4bf5-a9b7-71e110a588d1",
   "metadata": {},
   "outputs": [],
   "source": []
  }
 ],
 "metadata": {
  "kernelspec": {
   "display_name": "Python [conda env:base] *",
   "language": "python",
   "name": "conda-base-py"
  },
  "language_info": {
   "codemirror_mode": {
    "name": "ipython",
    "version": 3
   },
   "file_extension": ".py",
   "mimetype": "text/x-python",
   "name": "python",
   "nbconvert_exporter": "python",
   "pygments_lexer": "ipython3",
   "version": "3.12.7"
  }
 },
 "nbformat": 4,
 "nbformat_minor": 5
}
