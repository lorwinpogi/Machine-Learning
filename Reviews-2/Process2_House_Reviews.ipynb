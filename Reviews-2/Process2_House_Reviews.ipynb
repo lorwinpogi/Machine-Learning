{
 "cells": [
  {
   "cell_type": "code",
   "execution_count": 5,
   "id": "2c50befb-3eb8-43c3-8219-cd8823b73f62",
   "metadata": {},
   "outputs": [
    {
     "name": "stdout",
     "output_type": "stream",
     "text": [
      "         Hotel_Address  Hotel_Name\n",
      "Amsterdam, Netherlands         105\n",
      "      Barcelona, Spain         211\n",
      "London, United Kingdom         400\n",
      "          Milan, Italy         162\n",
      "         Paris, France         458\n",
      "       Vienna, Austria         158\n"
     ]
    }
   ],
   "source": [
    "import pandas as pd\n",
    "\n",
    "# Load the dataset\n",
    "df = pd.read_csv(\"Hotel_Reviews.csv\")\n",
    "\n",
    "# Drop latitude and longitude columns\n",
    "df.drop(columns=[\"lat\", \"lng\"], inplace=True)\n",
    "\n",
    "# Function to replace hotel addresses with just 'City, Country'\n",
    "def replace_address(row):\n",
    "    if \"Netherlands\" in row[\"Hotel_Address\"]:\n",
    "        return \"Amsterdam, Netherlands\"\n",
    "    elif \"Barcelona\" in row[\"Hotel_Address\"]:\n",
    "        return \"Barcelona, Spain\"\n",
    "    elif \"United Kingdom\" in row[\"Hotel_Address\"]:\n",
    "        return \"London, United Kingdom\"\n",
    "    elif \"Milan\" in row[\"Hotel_Address\"]:\n",
    "        return \"Milan, Italy\"\n",
    "    elif \"France\" in row[\"Hotel_Address\"]:\n",
    "        return \"Paris, France\"\n",
    "    elif \"Vienna\" in row[\"Hotel_Address\"]:\n",
    "        return \"Vienna, Austria\"\n",
    "    else:\n",
    "        return row[\"Hotel_Address\"]\n",
    "\n",
    "# Apply address replacement\n",
    "df[\"Hotel_Address\"] = df.apply(replace_address, axis=1)\n",
    "\n",
    "# Drop 'Additional_Number_of_Scoring'\n",
    "df.drop([\"Additional_Number_of_Scoring\"], axis=1, inplace=True)\n",
    "\n",
    "# Replace 'Total_Number_of_Reviews' with count per hotel\n",
    "df[\"Total_Number_of_Reviews\"] = df.groupby(\"Hotel_Name\")[\"Reviewer_Score\"].transform(\"count\")\n",
    "\n",
    "# Replace 'Average_Score' with mean Reviewer_Score per hotel, rounded to 1 decimal\n",
    "df[\"Average_Score\"] = df.groupby(\"Hotel_Name\")[\"Reviewer_Score\"].transform(\"mean\").round(1)\n",
    "\n",
    "# Optional: Print the result of groupby to verify\n",
    "result = df.groupby(\"Hotel_Address\")[\"Hotel_Name\"].nunique().reset_index()\n",
    "result.columns = [\"Hotel_Address\", \"Hotel_Name\"]\n",
    "print(result.to_string(index=False))"
   ]
  },
  {
   "cell_type": "code",
   "execution_count": null,
   "id": "fb26498b-3865-47ca-93a4-3980718d04c1",
   "metadata": {},
   "outputs": [],
   "source": []
  }
 ],
 "metadata": {
  "kernelspec": {
   "display_name": "Python [conda env:base] *",
   "language": "python",
   "name": "conda-base-py"
  },
  "language_info": {
   "codemirror_mode": {
    "name": "ipython",
    "version": 3
   },
   "file_extension": ".py",
   "mimetype": "text/x-python",
   "name": "python",
   "nbconvert_exporter": "python",
   "pygments_lexer": "ipython3",
   "version": "3.12.7"
  }
 },
 "nbformat": 4,
 "nbformat_minor": 5
}
