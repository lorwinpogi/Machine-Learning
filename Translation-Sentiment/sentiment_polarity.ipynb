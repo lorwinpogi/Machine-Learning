{
 "cells": [
  {
   "cell_type": "code",
   "execution_count": 6,
   "id": "27083866-61a0-48d9-8dbd-39226f8e700a",
   "metadata": {},
   "outputs": [],
   "source": [
    "from textblob import TextBlob\n",
    "\n",
    "with open(\"pride.txt\", encoding=\"utf8\") as f:\n",
    "    file_contents = f.read()"
   ]
  },
  {
   "cell_type": "code",
   "execution_count": 8,
   "id": "af0917ad-305c-42ff-b375-0f27b085f6d3",
   "metadata": {},
   "outputs": [],
   "source": [
    "book_pride = TextBlob(file_contents)\n",
    "positive_sentiment_sentences = []\n",
    "negative_sentiment_sentences = []"
   ]
  },
  {
   "cell_type": "code",
   "execution_count": 10,
   "id": "469073e8-db43-4dd6-9d07-5620fb2a38ca",
   "metadata": {},
   "outputs": [],
   "source": [
    "for sentence in book_pride.sentences:\n",
    "    if sentence.sentiment.polarity == 1:\n",
    "        positive_sentiment_sentences.append(sentence)\n",
    "    if sentence.sentiment.polarity == -1:\n",
    "        negative_sentiment_sentences.append(sentence)"
   ]
  },
  {
   "cell_type": "code",
   "execution_count": 18,
   "id": "d691952c-7802-4482-a70c-fdc4af0e3941",
   "metadata": {},
   "outputs": [
    {
     "name": "stdout",
     "output_type": "stream",
     "text": [
      "The 14 most negative sentences:\n",
      "- Everybody is disgusted with his pride.\n",
      "- what canhave induced him to behave so cruelly?”“A thorough, determined dislike of me--a dislike which I cannot butattribute in some measure to jealousy.\n",
      "- To finda man agreeable whom one is determined to hate!\n",
      "- “I should like to know how he behaves among strangers.”“You shall hear, then--but prepare for something very dreadful.\n",
      "- The pause was to Elizabeth’s feelingsdreadful.\n",
      "- “Wickham sovery bad!\n",
      "- The separationbetween her and her family was rather noisy than pathetic.\n",
      "- It would be dreadful!\n",
      "- can she be ignorant of what youand Jane seem so well to understand?”“Oh, yes!--that, that is the worst of all.\n",
      "- “She is so fond of Mrs. Forster,” said she, “it will be quite shockingto send her away!\n",
      "- It was all     over before I arrived; so my curiosity was not so dreadfully racked     as _yours_ seems to have been.\n",
      "- He called it, therefore, his duty to step     forward, and endeavour to remedy an evil which had been brought on     by himself.\n",
      "- How you must have hated me after _that_ evening!”“Hate you!\n",
      "- You were disgusted with the women who were always speaking,and looking, and thinking for _your_ approbation alone.\n"
     ]
    }
   ],
   "source": [
    "print(\"The \" + str(len(negative_sentiment_sentences)) + \" most negative sentences:\")\n",
    "for sentence in negative_sentiment_sentences:\n",
    "    print(\"- \" + str(sentence.replace(\"\\n\", \"\").replace(\"      \", \" \")))"
   ]
  }
 ],
 "metadata": {
  "kernelspec": {
   "display_name": "Python [conda env:base] *",
   "language": "python",
   "name": "conda-base-py"
  },
  "language_info": {
   "codemirror_mode": {
    "name": "ipython",
    "version": 3
   },
   "file_extension": ".py",
   "mimetype": "text/x-python",
   "name": "python",
   "nbconvert_exporter": "python",
   "pygments_lexer": "ipython3",
   "version": "3.12.7"
  }
 },
 "nbformat": 4,
 "nbformat_minor": 5
}
